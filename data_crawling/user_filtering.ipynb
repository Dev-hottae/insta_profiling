{
 "metadata": {
  "language_info": {
   "codemirror_mode": {
    "name": "ipython",
    "version": 3
   },
   "file_extension": ".py",
   "mimetype": "text/x-python",
   "name": "python",
   "nbconvert_exporter": "python",
   "pygments_lexer": "ipython3",
   "version": "3.6.5-final"
  },
  "orig_nbformat": 2,
  "kernelspec": {
   "name": "python_defaultSpec_1598579183832",
   "display_name": "Python 3.6.5 64-bit ('base': conda)"
  }
 },
 "nbformat": 4,
 "nbformat_minor": 2,
 "cells": [
  {
   "cell_type": "markdown",
   "metadata": {},
   "source": [
    "# User filtering\n",
    "특정 직업과 관련된 해시태그 검색 후, 해당 직업이 아닌 유저를 필터링하는 과정이 필요하다."
   ]
  },
  {
   "cell_type": "code",
   "execution_count": 1,
   "metadata": {},
   "outputs": [],
   "source": [
    "import pandas as pd\n",
    "import numpy as np\n",
    "from collections import Counter"
   ]
  },
  {
   "cell_type": "code",
   "execution_count": 361,
   "metadata": {},
   "outputs": [],
   "source": [
    "# 예제 데이터\n",
    "df0 = [{\"userid\": \"111111\", \"username\": \"yoouza\", \"tags\":[\"중경\", \"경찰\", \"좋반\", \"팔로우\"] , \"freq\" : {\"중경\": 13, \"경찰\": 10, \"좋반\": 12, \"팔로우\": 8}},\n",
    "{\"userid\": \"222222\", \"username\": \"orange\", \"tags\":[\"중경\", \"경찰\", \"좋반\", \"경찰대학\"], \"freq\" : {\"중경\": 8, \"경찰\": 9, \"좋반\": 10, \"경찰대학\": 12}}]\n",
    "df0 = pd.DataFrame(df0)[['userid', 'username', 'tags', 'freq']]\n",
    "df1 = [{\"userid\": \"33333\", \"username\": \"enhahappy\", \"tags\":[\"교사\", \"교생실습\", \"담임쌤\", \"좋반\"] , \"freq\" : {\"교사\": 12, \"교생실습\": 10, \"담임쌤\": 6, \"좋반\": 5}},\n",
    "{\"userid\": \"44444\", \"username\": \"blueganet\", \"tags\":[\"교생실습\", \"팔로우\", \"학생\"], \"freq\" : {\"교생실습\": 12, \"팔로우\": 7, \"학생\": 6}}]\n",
    "df1 = pd.DataFrame(df1)[['userid', 'username', 'tags', 'freq']]\n",
    "df2 = [{\"userid\": \"5555\", \"username\": \"kbs\", \"tags\":[\"의사\", \"병원\", \"진료중\", \"좋반\"] , \"freq\" : {\"의사\": 12, \"병원\": 10, \"진료중\": 6, \"좋반\": 5}},\n",
    "{\"userid\": \"6666\", \"username\": \"hotte\", \"tags\":[\"의사\", \"간호사\", \"팔로우해용\"], \"freq\" : {\"의사\": 12, \"간호사\": 7, \"팔로우해용\": 6}}]\n",
    "df2 = pd.DataFrame(df2)[['userid', 'username', 'tags', 'freq']]"
   ]
  },
  {
   "cell_type": "code",
   "execution_count": 362,
   "metadata": {
    "tags": []
   },
   "outputs": [
    {
     "output_type": "stream",
     "name": "stdout",
     "text": "제거 전: 경찰, 교사, 의사\n"
    },
    {
     "output_type": "display_data",
     "data": {
      "text/plain": "   userid username                tags  \\\n0  111111   yoouza   [중경, 경찰, 좋반, 팔로우]   \n1  222222   orange  [중경, 경찰, 좋반, 경찰대학]   \n\n                                       freq  \n0  {'중경': 13, '경찰': 10, '좋반': 12, '팔로우': 8}  \n1  {'중경': 8, '경찰': 9, '좋반': 10, '경찰대학': 12}  ",
      "text/html": "<div>\n<style scoped>\n    .dataframe tbody tr th:only-of-type {\n        vertical-align: middle;\n    }\n\n    .dataframe tbody tr th {\n        vertical-align: top;\n    }\n\n    .dataframe thead th {\n        text-align: right;\n    }\n</style>\n<table border=\"1\" class=\"dataframe\">\n  <thead>\n    <tr style=\"text-align: right;\">\n      <th></th>\n      <th>userid</th>\n      <th>username</th>\n      <th>tags</th>\n      <th>freq</th>\n    </tr>\n  </thead>\n  <tbody>\n    <tr>\n      <th>0</th>\n      <td>111111</td>\n      <td>yoouza</td>\n      <td>[중경, 경찰, 좋반, 팔로우]</td>\n      <td>{'중경': 13, '경찰': 10, '좋반': 12, '팔로우': 8}</td>\n    </tr>\n    <tr>\n      <th>1</th>\n      <td>222222</td>\n      <td>orange</td>\n      <td>[중경, 경찰, 좋반, 경찰대학]</td>\n      <td>{'중경': 8, '경찰': 9, '좋반': 10, '경찰대학': 12}</td>\n    </tr>\n  </tbody>\n</table>\n</div>"
     },
     "metadata": {}
    },
    {
     "output_type": "display_data",
     "data": {
      "text/plain": "  userid   username                 tags  \\\n0  33333  enhahappy  [교사, 교생실습, 담임쌤, 좋반]   \n1  44444  blueganet      [교생실습, 팔로우, 학생]   \n\n                                        freq  \n0  {'교사': 12, '교생실습': 10, '담임쌤': 6, '좋반': 5}  \n1            {'교생실습': 12, '팔로우': 7, '학생': 6}  ",
      "text/html": "<div>\n<style scoped>\n    .dataframe tbody tr th:only-of-type {\n        vertical-align: middle;\n    }\n\n    .dataframe tbody tr th {\n        vertical-align: top;\n    }\n\n    .dataframe thead th {\n        text-align: right;\n    }\n</style>\n<table border=\"1\" class=\"dataframe\">\n  <thead>\n    <tr style=\"text-align: right;\">\n      <th></th>\n      <th>userid</th>\n      <th>username</th>\n      <th>tags</th>\n      <th>freq</th>\n    </tr>\n  </thead>\n  <tbody>\n    <tr>\n      <th>0</th>\n      <td>33333</td>\n      <td>enhahappy</td>\n      <td>[교사, 교생실습, 담임쌤, 좋반]</td>\n      <td>{'교사': 12, '교생실습': 10, '담임쌤': 6, '좋반': 5}</td>\n    </tr>\n    <tr>\n      <th>1</th>\n      <td>44444</td>\n      <td>blueganet</td>\n      <td>[교생실습, 팔로우, 학생]</td>\n      <td>{'교생실습': 12, '팔로우': 7, '학생': 6}</td>\n    </tr>\n  </tbody>\n</table>\n</div>"
     },
     "metadata": {}
    },
    {
     "output_type": "display_data",
     "data": {
      "text/plain": "  userid username               tags                                     freq\n0   5555      kbs  [의사, 병원, 진료중, 좋반]  {'의사': 12, '병원': 10, '진료중': 6, '좋반': 5}\n1   6666    hotte   [의사, 간호사, 팔로우해용]         {'의사': 12, '간호사': 7, '팔로우해용': 6}",
      "text/html": "<div>\n<style scoped>\n    .dataframe tbody tr th:only-of-type {\n        vertical-align: middle;\n    }\n\n    .dataframe tbody tr th {\n        vertical-align: top;\n    }\n\n    .dataframe thead th {\n        text-align: right;\n    }\n</style>\n<table border=\"1\" class=\"dataframe\">\n  <thead>\n    <tr style=\"text-align: right;\">\n      <th></th>\n      <th>userid</th>\n      <th>username</th>\n      <th>tags</th>\n      <th>freq</th>\n    </tr>\n  </thead>\n  <tbody>\n    <tr>\n      <th>0</th>\n      <td>5555</td>\n      <td>kbs</td>\n      <td>[의사, 병원, 진료중, 좋반]</td>\n      <td>{'의사': 12, '병원': 10, '진료중': 6, '좋반': 5}</td>\n    </tr>\n    <tr>\n      <th>1</th>\n      <td>6666</td>\n      <td>hotte</td>\n      <td>[의사, 간호사, 팔로우해용]</td>\n      <td>{'의사': 12, '간호사': 7, '팔로우해용': 6}</td>\n    </tr>\n  </tbody>\n</table>\n</div>"
     },
     "metadata": {}
    }
   ],
   "source": [
    "print('제거 전: 경찰, 교사, 의사')\n",
    "display(df0)\n",
    "display(df1)\n",
    "display(df2)"
   ]
  },
  {
   "cell_type": "markdown",
   "metadata": {},
   "source": [
    "### 검색 해시태그 제거"
   ]
  },
  {
   "cell_type": "code",
   "execution_count": 363,
   "metadata": {},
   "outputs": [],
   "source": [
    "# 각 직업별 검색 해시태그\n",
    "hashtags = [[\"경찰\", \"중경\"], [\"교사\"], [\"의사\"]]\n",
    "\n",
    "def del_tags(tags, hashtag):\n",
    "    lst = []\n",
    "    for tag in tags:\n",
    "        if tag not in hashtag:\n",
    "            lst.append(tag)\n",
    "    return lst\n",
    "\n",
    "def del_freq(freq, hashtag):\n",
    "    dic = {}\n",
    "    for (w, i) in freq.items():\n",
    "        if w not in hashtag:\n",
    "            dic[w] = i\n",
    "    return dic\n",
    "\n",
    "def del_hashtag(num_df, hashtag):\n",
    "    df = globals()['df{}'.format(num_df)]\n",
    "    tags = df.tags.apply(lambda x: del_tags(x, hashtag))\n",
    "    freq = df.freq.apply(lambda x: del_freq(x, hashtag))\n",
    "    df['tags'] = tags\n",
    "    df['freq'] = freq\n",
    "    return df\n",
    "\n",
    "for i in range(N_category):\n",
    "    globals()['df{}'.format(i)] = del_hashtag(i, hashtags[i])"
   ]
  },
  {
   "cell_type": "code",
   "execution_count": 364,
   "metadata": {
    "tags": []
   },
   "outputs": [
    {
     "output_type": "stream",
     "name": "stdout",
     "text": "제거 후: 경찰, 교사, 의사\n"
    },
    {
     "output_type": "display_data",
     "data": {
      "text/plain": "   userid username        tags                    freq\n0  111111   yoouza   [좋반, 팔로우]    {'좋반': 12, '팔로우': 8}\n1  222222   orange  [좋반, 경찰대학]  {'좋반': 10, '경찰대학': 12}",
      "text/html": "<div>\n<style scoped>\n    .dataframe tbody tr th:only-of-type {\n        vertical-align: middle;\n    }\n\n    .dataframe tbody tr th {\n        vertical-align: top;\n    }\n\n    .dataframe thead th {\n        text-align: right;\n    }\n</style>\n<table border=\"1\" class=\"dataframe\">\n  <thead>\n    <tr style=\"text-align: right;\">\n      <th></th>\n      <th>userid</th>\n      <th>username</th>\n      <th>tags</th>\n      <th>freq</th>\n    </tr>\n  </thead>\n  <tbody>\n    <tr>\n      <th>0</th>\n      <td>111111</td>\n      <td>yoouza</td>\n      <td>[좋반, 팔로우]</td>\n      <td>{'좋반': 12, '팔로우': 8}</td>\n    </tr>\n    <tr>\n      <th>1</th>\n      <td>222222</td>\n      <td>orange</td>\n      <td>[좋반, 경찰대학]</td>\n      <td>{'좋반': 10, '경찰대학': 12}</td>\n    </tr>\n  </tbody>\n</table>\n</div>"
     },
     "metadata": {}
    },
    {
     "output_type": "display_data",
     "data": {
      "text/plain": "  userid   username             tags                             freq\n0  33333  enhahappy  [교생실습, 담임쌤, 좋반]  {'교생실습': 10, '담임쌤': 6, '좋반': 5}\n1  44444  blueganet  [교생실습, 팔로우, 학생]  {'교생실습': 12, '팔로우': 7, '학생': 6}",
      "text/html": "<div>\n<style scoped>\n    .dataframe tbody tr th:only-of-type {\n        vertical-align: middle;\n    }\n\n    .dataframe tbody tr th {\n        vertical-align: top;\n    }\n\n    .dataframe thead th {\n        text-align: right;\n    }\n</style>\n<table border=\"1\" class=\"dataframe\">\n  <thead>\n    <tr style=\"text-align: right;\">\n      <th></th>\n      <th>userid</th>\n      <th>username</th>\n      <th>tags</th>\n      <th>freq</th>\n    </tr>\n  </thead>\n  <tbody>\n    <tr>\n      <th>0</th>\n      <td>33333</td>\n      <td>enhahappy</td>\n      <td>[교생실습, 담임쌤, 좋반]</td>\n      <td>{'교생실습': 10, '담임쌤': 6, '좋반': 5}</td>\n    </tr>\n    <tr>\n      <th>1</th>\n      <td>44444</td>\n      <td>blueganet</td>\n      <td>[교생실습, 팔로우, 학생]</td>\n      <td>{'교생실습': 12, '팔로우': 7, '학생': 6}</td>\n    </tr>\n  </tbody>\n</table>\n</div>"
     },
     "metadata": {}
    },
    {
     "output_type": "display_data",
     "data": {
      "text/plain": "  userid username           tags                           freq\n0   5555      kbs  [병원, 진료중, 좋반]  {'병원': 10, '진료중': 6, '좋반': 5}\n1   6666    hotte   [간호사, 팔로우해용]         {'간호사': 7, '팔로우해용': 6}",
      "text/html": "<div>\n<style scoped>\n    .dataframe tbody tr th:only-of-type {\n        vertical-align: middle;\n    }\n\n    .dataframe tbody tr th {\n        vertical-align: top;\n    }\n\n    .dataframe thead th {\n        text-align: right;\n    }\n</style>\n<table border=\"1\" class=\"dataframe\">\n  <thead>\n    <tr style=\"text-align: right;\">\n      <th></th>\n      <th>userid</th>\n      <th>username</th>\n      <th>tags</th>\n      <th>freq</th>\n    </tr>\n  </thead>\n  <tbody>\n    <tr>\n      <th>0</th>\n      <td>5555</td>\n      <td>kbs</td>\n      <td>[병원, 진료중, 좋반]</td>\n      <td>{'병원': 10, '진료중': 6, '좋반': 5}</td>\n    </tr>\n    <tr>\n      <th>1</th>\n      <td>6666</td>\n      <td>hotte</td>\n      <td>[간호사, 팔로우해용]</td>\n      <td>{'간호사': 7, '팔로우해용': 6}</td>\n    </tr>\n  </tbody>\n</table>\n</div>"
     },
     "metadata": {}
    }
   ],
   "source": [
    "print('제거 후: 경찰, 교사, 의사')\n",
    "display(df0)\n",
    "display(df1)\n",
    "display(df2)"
   ]
  },
  {
   "cell_type": "markdown",
   "metadata": {},
   "source": [
    "### 전체 빈도수\n",
    "df뒤의 숫자와 1:1 매칭\n"
   ]
  },
  {
   "cell_type": "code",
   "execution_count": 384,
   "metadata": {},
   "outputs": [],
   "source": [
    "N_category = 3 # 직업 카테고리 수\n",
    "\n",
    "for i in range(N_category):\n",
    "    globals()['freq_whole_{}'.format(i)] = Counter()\n",
    "    for f in globals()['df{}'.format(i)].freq:\n",
    "        globals()['freq_whole_{}'.format(i)] += Counter(f)"
   ]
  },
  {
   "cell_type": "code",
   "execution_count": 366,
   "metadata": {},
   "outputs": [
    {
     "output_type": "execute_result",
     "data": {
      "text/plain": "(Counter({'좋반': 22, '팔로우': 8, '경찰대학': 12}),\n Counter({'교생실습': 22, '담임쌤': 6, '좋반': 5, '팔로우': 7, '학생': 6}),\n Counter({'병원': 10, '진료중': 6, '좋반': 5, '간호사': 7, '팔로우해용': 6}))"
     },
     "metadata": {},
     "execution_count": 366
    }
   ],
   "source": [
    "freq_whole_0, freq_whole_1, freq_whole_2"
   ]
  },
  {
   "cell_type": "markdown",
   "metadata": {},
   "source": [
    "### 새로운 voca dict 생성\n",
    "단어의 등장 문서수가 직업군의 절반을 넘을 경우, 해당 단어를 제거한 새로운 딕셔너리 생성(각 직업군에 대표성 있다고 판단)"
   ]
  },
  {
   "cell_type": "code",
   "execution_count": 367,
   "metadata": {
    "tags": []
   },
   "outputs": [],
   "source": [
    "for i in range(N_category):\n",
    "    globals()['voca{}'.format(i)] = {}\n",
    "    globals()['freq_other{}'.format(i)] = {}\n",
    "\n",
    "for num in range(N_category):\n",
    "    for (w, n) in globals()['freq_whole_{}'.format(num)].items():\n",
    "        w_freq = 1\n",
    "        for i in range(N_category):\n",
    "            if i != num:\n",
    "                if w in globals()['freq_whole_{}'.format(i)]:\n",
    "                    w_freq += 1\n",
    "        globals()['freq_other{}'.format(num)][w] = w_freq\n",
    "        if w_freq <= N_category//2:\n",
    "            globals()['voca{}'.format(num)][w] = n"
   ]
  },
  {
   "cell_type": "code",
   "execution_count": 368,
   "metadata": {},
   "outputs": [
    {
     "output_type": "execute_result",
     "data": {
      "text/plain": "({'경찰대학': 12},\n {'교생실습': 22, '담임쌤': 6, '학생': 6},\n {'병원': 10, '진료중': 6, '간호사': 7, '팔로우해용': 6})"
     },
     "metadata": {},
     "execution_count": 368
    }
   ],
   "source": [
    "# 각 직업의 대표성을 띠는 단어들\n",
    "voca0, voca1, voca2"
   ]
  },
  {
   "cell_type": "code",
   "execution_count": 369,
   "metadata": {},
   "outputs": [
    {
     "output_type": "execute_result",
     "data": {
      "text/plain": "({'좋반': 3, '팔로우': 2, '경찰대학': 1},\n {'교생실습': 1, '담임쌤': 1, '좋반': 3, '팔로우': 2, '학생': 1},\n {'병원': 1, '진료중': 1, '좋반': 3, '간호사': 1, '팔로우해용': 1})"
     },
     "metadata": {},
     "execution_count": 369
    }
   ],
   "source": [
    "# 등장한 문서 수\n",
    "freq_other0, freq_other1, freq_other2"
   ]
  },
  {
   "cell_type": "code",
   "execution_count": 370,
   "metadata": {},
   "outputs": [],
   "source": [
    "N = 2 # 상위 몇 개를 뽑아낼지 지정\n",
    "for i in range(N_category):\n",
    "    globals()['voca{}_top'.format(i)] = dict(Counter(globals()['voca{}'.format(i)]).most_common(N))"
   ]
  },
  {
   "cell_type": "code",
   "execution_count": 371,
   "metadata": {},
   "outputs": [
    {
     "output_type": "execute_result",
     "data": {
      "text/plain": "({'경찰대학': 12}, {'교생실습': 22, '담임쌤': 6}, {'병원': 10, '간호사': 7})"
     },
     "metadata": {},
     "execution_count": 371
    }
   ],
   "source": [
    "# 상위 N개의 voca dict\n",
    "voca0_top, voca1_top, voca2_top"
   ]
  },
  {
   "cell_type": "markdown",
   "metadata": {},
   "source": [
    "### negative dict 생성\n",
    "타 직업군의 voca를 다 더한다."
   ]
  },
  {
   "cell_type": "code",
   "execution_count": 372,
   "metadata": {},
   "outputs": [],
   "source": [
    "for i in range(N_category):\n",
    "    globals()['neg{}'.format(i)] = Counter()\n",
    "\n",
    "for i in range(N_category):\n",
    "    for j in range(N_category):\n",
    "        if j != i:\n",
    "            globals()['neg{}'.format(i)] += Counter(globals()['voca{}_top'.format(j)])"
   ]
  },
  {
   "cell_type": "code",
   "execution_count": 373,
   "metadata": {},
   "outputs": [
    {
     "output_type": "execute_result",
     "data": {
      "text/plain": "(Counter({'교생실습': 22, '담임쌤': 6, '병원': 10, '간호사': 7}),\n Counter({'경찰대학': 12, '병원': 10, '간호사': 7}),\n Counter({'경찰대학': 12, '교생실습': 22, '담임쌤': 6}))"
     },
     "metadata": {},
     "execution_count": 373
    }
   ],
   "source": [
    "# 타 직업군에서의 단어 목록\n",
    "neg0, neg1, neg2"
   ]
  },
  {
   "cell_type": "markdown",
   "metadata": {},
   "source": [
    "## neg voca에 많이 등장할수록 중요도를 낮추는 방법 고찰\n",
    "- 목표: 다른 직업군을 대표하는 단어가 등장할수록 0에 가깝고 그 외의 경우에는 1에 가깝게\n",
    "1. log값 취하고 1더한 후 역수\n",
    "2. 상-하 뒤집은 후 x축으로 +N_sigmoid만큼 평행이동한 sigmoid 적용(0~1사이 값, 변곡점은 N_sigmoid에 위치)\n"
   ]
  },
  {
   "cell_type": "markdown",
   "metadata": {},
   "source": [
    "### 1. negative voca에 log값 취하기"
   ]
  },
  {
   "cell_type": "code",
   "execution_count": 374,
   "metadata": {},
   "outputs": [],
   "source": [
    "for i in range(N_category):\n",
    "    globals()['neg{}_log'.format(i)] = {}\n",
    "\n",
    "for i in range(N_category):\n",
    "    for (w, n) in globals()['neg{}'.format(i)].items():\n",
    "        globals()['neg{}_log'.format(i)][w] = np.log(n)"
   ]
  },
  {
   "cell_type": "code",
   "execution_count": 375,
   "metadata": {},
   "outputs": [
    {
     "output_type": "execute_result",
     "data": {
      "text/plain": "({'교생실습': 3.091042453358316,\n  '담임쌤': 1.791759469228055,\n  '병원': 2.302585092994046,\n  '간호사': 1.9459101490553132},\n {'경찰대학': 2.4849066497880004,\n  '병원': 2.302585092994046,\n  '간호사': 1.9459101490553132},\n {'경찰대학': 2.4849066497880004,\n  '교생실습': 3.091042453358316,\n  '담임쌤': 1.791759469228055})"
     },
     "metadata": {},
     "execution_count": 375
    }
   ],
   "source": [
    "neg0_log, neg1_log, neg2_log"
   ]
  },
  {
   "cell_type": "markdown",
   "metadata": {},
   "source": [
    "### 2. negative voca에 sigmoid 적용하기\n",
    "- N_sigmoid는 neg 단어의 빈도수 보고 조정해야 함\n",
    "- 상위 N개의 평균 값 정도가 적절할듯"
   ]
  },
  {
   "cell_type": "code",
   "execution_count": 376,
   "metadata": {},
   "outputs": [],
   "source": [
    "def mysigmoid(x, N_sigmoid):\n",
    "    return 1 / (1 + np.exp(x - N_sigmoid))\n",
    "\n",
    "for i in range(N_category):\n",
    "    globals()['neg{}_sig'.format(i)] = {}\n",
    "\n",
    "for i in range(N_category):\n",
    "    for (w, n) in globals()['neg{}'.format(i)].items():\n",
    "        globals()['neg{}_sig'.format(i)][w] = mysigmoid(n, N_sigmoid = 20)"
   ]
  },
  {
   "cell_type": "code",
   "execution_count": 377,
   "metadata": {},
   "outputs": [
    {
     "output_type": "execute_result",
     "data": {
      "text/plain": "({'교생실습': 0.11920292202211755,\n  '담임쌤': 0.9999991684719722,\n  '병원': 0.9999546021312976,\n  '간호사': 0.999997739675702},\n {'경찰대학': 0.9996646498695336,\n  '병원': 0.9999546021312976,\n  '간호사': 0.999997739675702},\n {'경찰대학': 0.9996646498695336,\n  '교생실습': 0.11920292202211755,\n  '담임쌤': 0.9999991684719722})"
     },
     "metadata": {},
     "execution_count": 377
    }
   ],
   "source": [
    "neg0_sig, neg1_sig, neg2_sig"
   ]
  },
  {
   "cell_type": "markdown",
   "metadata": {},
   "source": [
    "# 최종 scoring\n",
    "- 주부, 백수는 계산할 필요 없음\n",
    "- negative 변수를 곱한 tf-idf 중요도 사용\n",
    "- tf-idf에 곱해줄 보정 변수 neg 계산법\n",
    "1. log: 1/(1+neg_log)\n",
    "2. sigmoid: neg_sig 그대로 사용"
   ]
  },
  {
   "cell_type": "code",
   "execution_count": 378,
   "metadata": {
    "tags": []
   },
   "outputs": [],
   "source": [
    "for i in range(N_category):\n",
    "    globals()['df{}'.format(i)]['score_log'] = 0\n",
    "    globals()['df{}'.format(i)]['score_sigmoid'] = 0"
   ]
  },
  {
   "cell_type": "code",
   "execution_count": 379,
   "metadata": {},
   "outputs": [],
   "source": [
    "def scoring(freq_row, num_df, method):\n",
    "    score = 0\n",
    "    for (w, n) in freq_row.items():\n",
    "        tf = n\n",
    "        idf = N_category / (1 + globals()['freq_other{}'.format(num_df)][w])\n",
    "        try:\n",
    "            if method == 'log':\n",
    "                neg = 1 / (1 + globals()['neg{}_log'.format(num_df)][w])\n",
    "            elif method == 'sigmoid':\n",
    "                neg = globals()['neg{}_sig'.format(num_df)][w]\n",
    "        except:\n",
    "            neg = 1\n",
    "        score += tf * idf * neg\n",
    "    return score"
   ]
  },
  {
   "cell_type": "code",
   "execution_count": 380,
   "metadata": {},
   "outputs": [],
   "source": [
    "# 실제로 돌릴때는 N_category-2 (주부, 백수)\n",
    "\n",
    "for i in range(N_category):\n",
    "    globals()['df{}'.format(i)]['score_log'] = globals()['df{}'.format(i)]['freq'].apply(lambda x: scoring(x, i, method = 'log'))\n",
    "    globals()['df{}'.format(i)]['score_sigmoid'] = globals()['df{}'.format(i)]['freq'].apply(lambda x: scoring(x, i, method = 'sigmoid'))"
   ]
  },
  {
   "cell_type": "code",
   "execution_count": 382,
   "metadata": {
    "tags": []
   },
   "outputs": [
    {
     "output_type": "stream",
     "name": "stdout",
     "text": "예제 데이터는 score 비교 불가능..\n"
    },
    {
     "output_type": "display_data",
     "data": {
      "text/plain": "   userid username        tags                    freq  score_log  \\\n0  111111   yoouza   [좋반, 팔로우]    {'좋반': 12, '팔로우': 8}       17.0   \n1  222222   orange  [좋반, 경찰대학]  {'좋반': 10, '경찰대학': 12}       25.5   \n\n   score_sigmoid  \n0           17.0  \n1           25.5  ",
      "text/html": "<div>\n<style scoped>\n    .dataframe tbody tr th:only-of-type {\n        vertical-align: middle;\n    }\n\n    .dataframe tbody tr th {\n        vertical-align: top;\n    }\n\n    .dataframe thead th {\n        text-align: right;\n    }\n</style>\n<table border=\"1\" class=\"dataframe\">\n  <thead>\n    <tr style=\"text-align: right;\">\n      <th></th>\n      <th>userid</th>\n      <th>username</th>\n      <th>tags</th>\n      <th>freq</th>\n      <th>score_log</th>\n      <th>score_sigmoid</th>\n    </tr>\n  </thead>\n  <tbody>\n    <tr>\n      <th>0</th>\n      <td>111111</td>\n      <td>yoouza</td>\n      <td>[좋반, 팔로우]</td>\n      <td>{'좋반': 12, '팔로우': 8}</td>\n      <td>17.0</td>\n      <td>17.0</td>\n    </tr>\n    <tr>\n      <th>1</th>\n      <td>222222</td>\n      <td>orange</td>\n      <td>[좋반, 경찰대학]</td>\n      <td>{'좋반': 10, '경찰대학': 12}</td>\n      <td>25.5</td>\n      <td>25.5</td>\n    </tr>\n  </tbody>\n</table>\n</div>"
     },
     "metadata": {}
    },
    {
     "output_type": "display_data",
     "data": {
      "text/plain": "  userid   username             tags                             freq  \\\n0  33333  enhahappy  [교생실습, 담임쌤, 좋반]  {'교생실습': 10, '담임쌤': 6, '좋반': 5}   \n1  44444  blueganet  [교생실습, 팔로우, 학생]  {'교생실습': 12, '팔로우': 7, '학생': 6}   \n\n   score_log  score_sigmoid  \n0      27.75          27.75  \n1      34.00          34.00  ",
      "text/html": "<div>\n<style scoped>\n    .dataframe tbody tr th:only-of-type {\n        vertical-align: middle;\n    }\n\n    .dataframe tbody tr th {\n        vertical-align: top;\n    }\n\n    .dataframe thead th {\n        text-align: right;\n    }\n</style>\n<table border=\"1\" class=\"dataframe\">\n  <thead>\n    <tr style=\"text-align: right;\">\n      <th></th>\n      <th>userid</th>\n      <th>username</th>\n      <th>tags</th>\n      <th>freq</th>\n      <th>score_log</th>\n      <th>score_sigmoid</th>\n    </tr>\n  </thead>\n  <tbody>\n    <tr>\n      <th>0</th>\n      <td>33333</td>\n      <td>enhahappy</td>\n      <td>[교생실습, 담임쌤, 좋반]</td>\n      <td>{'교생실습': 10, '담임쌤': 6, '좋반': 5}</td>\n      <td>27.75</td>\n      <td>27.75</td>\n    </tr>\n    <tr>\n      <th>1</th>\n      <td>44444</td>\n      <td>blueganet</td>\n      <td>[교생실습, 팔로우, 학생]</td>\n      <td>{'교생실습': 12, '팔로우': 7, '학생': 6}</td>\n      <td>34.00</td>\n      <td>34.00</td>\n    </tr>\n  </tbody>\n</table>\n</div>"
     },
     "metadata": {}
    },
    {
     "output_type": "display_data",
     "data": {
      "text/plain": "  userid username           tags                           freq  score_log  \\\n0   5555      kbs  [병원, 진료중, 좋반]  {'병원': 10, '진료중': 6, '좋반': 5}      27.75   \n1   6666    hotte   [간호사, 팔로우해용]         {'간호사': 7, '팔로우해용': 6}      19.50   \n\n   score_sigmoid  \n0          27.75  \n1          19.50  ",
      "text/html": "<div>\n<style scoped>\n    .dataframe tbody tr th:only-of-type {\n        vertical-align: middle;\n    }\n\n    .dataframe tbody tr th {\n        vertical-align: top;\n    }\n\n    .dataframe thead th {\n        text-align: right;\n    }\n</style>\n<table border=\"1\" class=\"dataframe\">\n  <thead>\n    <tr style=\"text-align: right;\">\n      <th></th>\n      <th>userid</th>\n      <th>username</th>\n      <th>tags</th>\n      <th>freq</th>\n      <th>score_log</th>\n      <th>score_sigmoid</th>\n    </tr>\n  </thead>\n  <tbody>\n    <tr>\n      <th>0</th>\n      <td>5555</td>\n      <td>kbs</td>\n      <td>[병원, 진료중, 좋반]</td>\n      <td>{'병원': 10, '진료중': 6, '좋반': 5}</td>\n      <td>27.75</td>\n      <td>27.75</td>\n    </tr>\n    <tr>\n      <th>1</th>\n      <td>6666</td>\n      <td>hotte</td>\n      <td>[간호사, 팔로우해용]</td>\n      <td>{'간호사': 7, '팔로우해용': 6}</td>\n      <td>19.50</td>\n      <td>19.50</td>\n    </tr>\n  </tbody>\n</table>\n</div>"
     },
     "metadata": {}
    }
   ],
   "source": [
    "print('예제 데이터는 score 비교 불가능..')\n",
    "display(df0)\n",
    "display(df1)\n",
    "display(df2)"
   ]
  }
 ]
}