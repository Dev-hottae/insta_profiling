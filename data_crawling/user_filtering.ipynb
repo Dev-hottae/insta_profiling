{
 "metadata": {
  "language_info": {
   "codemirror_mode": {
    "name": "ipython",
    "version": 3
   },
   "file_extension": ".py",
   "mimetype": "text/x-python",
   "name": "python",
   "nbconvert_exporter": "python",
   "pygments_lexer": "ipython3",
   "version": "3.6.5-final"
  },
  "orig_nbformat": 2,
  "kernelspec": {
   "name": "python_defaultSpec_1599718072355",
   "display_name": "Python 3.6.5 64-bit ('base': conda)"
  }
 },
 "nbformat": 4,
 "nbformat_minor": 2,
 "cells": [
  {
   "cell_type": "markdown",
   "metadata": {},
   "source": [
    "# User filtering\n",
    "특정 직업과 관련된 해시태그 검색 후, 해당 직업이 아닌 유저를 필터링하는 과정이 필요하다."
   ]
  },
  {
   "cell_type": "code",
   "execution_count": 1,
   "metadata": {},
   "outputs": [],
   "source": [
    "import pandas as pd\n",
    "import numpy as np\n",
    "from collections import Counter"
   ]
  },
  {
   "cell_type": "code",
   "execution_count": 3,
   "metadata": {},
   "outputs": [],
   "source": [
    "# 예제 데이터\n",
    "path = 'C:/Users/bogyung/Downloads/crawling/test/'\n",
    "df0 = pd.read_json(path + 'tags_goonin.json')\n",
    "df1 = pd.read_json(path + 'tags_gyosa.json')\n",
    "df2 = pd.read_json(path + 'tags_joong2.json')\n",
    "df = [df0, df1, df2]"
   ]
  },
  {
   "cell_type": "code",
   "execution_count": 3,
   "metadata": {
    "tags": []
   },
   "outputs": [
    {
     "output_type": "stream",
     "name": "stdout",
     "text": "제거 전: 군인\n"
    },
    {
     "output_type": "display_data",
     "data": {
      "text/plain": "                                                freq  \\\n0                                 {'23': 1, '24': 1}   \n1  {'25': 5, '천안': 4, '22': 1, '군대': 1, '선임': 1, ...   \n2  {'셀카': 84, '맞팔': 84, '인친': 84, '소통': 84, '꿈': ...   \n3                                 {'산책': 1, '여유': 1}   \n4  {'여기조기요기': 1, '굿모닝': 1, '나온다나온다나이나온다': 1, '유노앤...   \n\n                                                tags      user_id  \\\n0                                           [23, 24]  24895167311   \n1  [25, 천안, 22, 군대, 선임, 후임, 남자랑, 데이트, 운동, 웨이트, 군인...   4648813963   \n2  [셀카, 맞팔, 인친, 소통, 꿈, 자부심, 팔로우, 선팔, 데일리, 여행스타그램,...   7806334927   \n3                                           [산책, 여유]  37806496856   \n4  [여기조기요기, 굿모닝, 나온다나온다나이나온다, 유노앤드요, 컴백, 웃음욕심, 노력...   5641751675   \n\n       user_name  \n0  hye_lim._.eee  \n1         96_ugi  \n2      soonshin_  \n3        dong_bz  \n4       _andyon_  ",
      "text/html": "<div>\n<style scoped>\n    .dataframe tbody tr th:only-of-type {\n        vertical-align: middle;\n    }\n\n    .dataframe tbody tr th {\n        vertical-align: top;\n    }\n\n    .dataframe thead th {\n        text-align: right;\n    }\n</style>\n<table border=\"1\" class=\"dataframe\">\n  <thead>\n    <tr style=\"text-align: right;\">\n      <th></th>\n      <th>freq</th>\n      <th>tags</th>\n      <th>user_id</th>\n      <th>user_name</th>\n    </tr>\n  </thead>\n  <tbody>\n    <tr>\n      <th>0</th>\n      <td>{'23': 1, '24': 1}</td>\n      <td>[23, 24]</td>\n      <td>24895167311</td>\n      <td>hye_lim._.eee</td>\n    </tr>\n    <tr>\n      <th>1</th>\n      <td>{'25': 5, '천안': 4, '22': 1, '군대': 1, '선임': 1, ...</td>\n      <td>[25, 천안, 22, 군대, 선임, 후임, 남자랑, 데이트, 운동, 웨이트, 군인...</td>\n      <td>4648813963</td>\n      <td>96_ugi</td>\n    </tr>\n    <tr>\n      <th>2</th>\n      <td>{'셀카': 84, '맞팔': 84, '인친': 84, '소통': 84, '꿈': ...</td>\n      <td>[셀카, 맞팔, 인친, 소통, 꿈, 자부심, 팔로우, 선팔, 데일리, 여행스타그램,...</td>\n      <td>7806334927</td>\n      <td>soonshin_</td>\n    </tr>\n    <tr>\n      <th>3</th>\n      <td>{'산책': 1, '여유': 1}</td>\n      <td>[산책, 여유]</td>\n      <td>37806496856</td>\n      <td>dong_bz</td>\n    </tr>\n    <tr>\n      <th>4</th>\n      <td>{'여기조기요기': 1, '굿모닝': 1, '나온다나온다나이나온다': 1, '유노앤...</td>\n      <td>[여기조기요기, 굿모닝, 나온다나온다나이나온다, 유노앤드요, 컴백, 웃음욕심, 노력...</td>\n      <td>5641751675</td>\n      <td>_andyon_</td>\n    </tr>\n  </tbody>\n</table>\n</div>"
     },
     "metadata": {}
    },
    {
     "output_type": "stream",
     "name": "stdout",
     "text": "제거 전: 교사\n"
    },
    {
     "output_type": "display_data",
     "data": {
      "text/plain": "                                                freq  \\\n0                                          {'범계': 1}   \n1  {'쌤스타그램': 21, '교사스타그램': 23, '교사': 19, '선생님': 2...   \n2  {'25': 24, '쌩얼인거비밀': 1, '25살': 21, '일상': 32, '...   \n3  {'대구교총': 10, '교총': 6, '한국교총': 10, '이벤트': 2, '선...   \n4  {'제주대학교': 12, '수시모집요강': 1, '제주대학교2021학년도수시모집요강...   \n\n                                                tags      user_id  \\\n0                                               [범계]  30033400542   \n1  [쌤스타그램, 교사스타그램, 교사, 선생님, 선생님스타그램, 중학교, 노보텔앰배서더...   3033063913   \n2  [25, 쌩얼인거비밀, 25살, 일상, 코로나19, 마스크필수, 어린이집, 출근, ...   2241028185   \n3  [대구교총, 교총, 한국교총, 이벤트, 선생님, 교사, 교수, 유치원선생님, 쌤스타...   5571560038   \n4  [제주대학교, 수시모집요강, 제주대학교2021학년도수시모집요강, 전형일정, 모집단위...   5863131290   \n\n      user_name  \n0       d_jshin  \n1  iam_minthyun  \n2       90lka11  \n3  cheerup_2680  \n4   jejunu_ibsi  ",
      "text/html": "<div>\n<style scoped>\n    .dataframe tbody tr th:only-of-type {\n        vertical-align: middle;\n    }\n\n    .dataframe tbody tr th {\n        vertical-align: top;\n    }\n\n    .dataframe thead th {\n        text-align: right;\n    }\n</style>\n<table border=\"1\" class=\"dataframe\">\n  <thead>\n    <tr style=\"text-align: right;\">\n      <th></th>\n      <th>freq</th>\n      <th>tags</th>\n      <th>user_id</th>\n      <th>user_name</th>\n    </tr>\n  </thead>\n  <tbody>\n    <tr>\n      <th>0</th>\n      <td>{'범계': 1}</td>\n      <td>[범계]</td>\n      <td>30033400542</td>\n      <td>d_jshin</td>\n    </tr>\n    <tr>\n      <th>1</th>\n      <td>{'쌤스타그램': 21, '교사스타그램': 23, '교사': 19, '선생님': 2...</td>\n      <td>[쌤스타그램, 교사스타그램, 교사, 선생님, 선생님스타그램, 중학교, 노보텔앰배서더...</td>\n      <td>3033063913</td>\n      <td>iam_minthyun</td>\n    </tr>\n    <tr>\n      <th>2</th>\n      <td>{'25': 24, '쌩얼인거비밀': 1, '25살': 21, '일상': 32, '...</td>\n      <td>[25, 쌩얼인거비밀, 25살, 일상, 코로나19, 마스크필수, 어린이집, 출근, ...</td>\n      <td>2241028185</td>\n      <td>90lka11</td>\n    </tr>\n    <tr>\n      <th>3</th>\n      <td>{'대구교총': 10, '교총': 6, '한국교총': 10, '이벤트': 2, '선...</td>\n      <td>[대구교총, 교총, 한국교총, 이벤트, 선생님, 교사, 교수, 유치원선생님, 쌤스타...</td>\n      <td>5571560038</td>\n      <td>cheerup_2680</td>\n    </tr>\n    <tr>\n      <th>4</th>\n      <td>{'제주대학교': 12, '수시모집요강': 1, '제주대학교2021학년도수시모집요강...</td>\n      <td>[제주대학교, 수시모집요강, 제주대학교2021학년도수시모집요강, 전형일정, 모집단위...</td>\n      <td>5863131290</td>\n      <td>jejunu_ibsi</td>\n    </tr>\n  </tbody>\n</table>\n</div>"
     },
     "metadata": {}
    },
    {
     "output_type": "stream",
     "name": "stdout",
     "text": "제거 전: 중학생\n"
    },
    {
     "output_type": "display_data",
     "data": {
      "text/plain": "                                                freq  \\\n0  {'모트트레인9월1일차': 1, '모트트레인': 1, '고려대학교': 2, '공스타...   \n1        {'칼단발': 1, '단발': 1, '집콕중': 1, '놀러가고싶어요': 1}   \n2                                                 {}   \n3  {'열공': 38, '인스': 4, '엉망진창': 1, '실수때매': 1, '망함'...   \n4  {'06': 20, '0606': 9, '공부인증그램': 2, '공부인증': 5, ...   \n\n                                                tags      user_id  \\\n0                  [모트트레인9월1일차, 모트트레인, 고려대학교, 공스타소통]  40090360824   \n1                            [칼단발, 단발, 집콕중, 놀러가고싶어요]   9632681759   \n2                                                 []  15470222343   \n3  [열공, 인스, 엉망진창, 실수때매, 망함, 공부, 공스타그램, 초6, 예비중, 중...  25539217889   \n4  [06, 0606, 공부인증그램, 공부인증, 공부인증샷, 공부인증계정, 공스타그램,...  27400344693   \n\n       user_name  \n0     t.memory_0  \n1    hye0njiye0n  \n2  shinchaehee06  \n3   yeowon_study  \n4  _medic.__.kim  ",
      "text/html": "<div>\n<style scoped>\n    .dataframe tbody tr th:only-of-type {\n        vertical-align: middle;\n    }\n\n    .dataframe tbody tr th {\n        vertical-align: top;\n    }\n\n    .dataframe thead th {\n        text-align: right;\n    }\n</style>\n<table border=\"1\" class=\"dataframe\">\n  <thead>\n    <tr style=\"text-align: right;\">\n      <th></th>\n      <th>freq</th>\n      <th>tags</th>\n      <th>user_id</th>\n      <th>user_name</th>\n    </tr>\n  </thead>\n  <tbody>\n    <tr>\n      <th>0</th>\n      <td>{'모트트레인9월1일차': 1, '모트트레인': 1, '고려대학교': 2, '공스타...</td>\n      <td>[모트트레인9월1일차, 모트트레인, 고려대학교, 공스타소통]</td>\n      <td>40090360824</td>\n      <td>t.memory_0</td>\n    </tr>\n    <tr>\n      <th>1</th>\n      <td>{'칼단발': 1, '단발': 1, '집콕중': 1, '놀러가고싶어요': 1}</td>\n      <td>[칼단발, 단발, 집콕중, 놀러가고싶어요]</td>\n      <td>9632681759</td>\n      <td>hye0njiye0n</td>\n    </tr>\n    <tr>\n      <th>2</th>\n      <td>{}</td>\n      <td>[]</td>\n      <td>15470222343</td>\n      <td>shinchaehee06</td>\n    </tr>\n    <tr>\n      <th>3</th>\n      <td>{'열공': 38, '인스': 4, '엉망진창': 1, '실수때매': 1, '망함'...</td>\n      <td>[열공, 인스, 엉망진창, 실수때매, 망함, 공부, 공스타그램, 초6, 예비중, 중...</td>\n      <td>25539217889</td>\n      <td>yeowon_study</td>\n    </tr>\n    <tr>\n      <th>4</th>\n      <td>{'06': 20, '0606': 9, '공부인증그램': 2, '공부인증': 5, ...</td>\n      <td>[06, 0606, 공부인증그램, 공부인증, 공부인증샷, 공부인증계정, 공스타그램,...</td>\n      <td>27400344693</td>\n      <td>_medic.__.kim</td>\n    </tr>\n  </tbody>\n</table>\n</div>"
     },
     "metadata": {}
    }
   ],
   "source": [
    "print('제거 전: 군인')\n",
    "display(df0.head())\n",
    "print('제거 전: 교사')\n",
    "display(df1.head())\n",
    "print('제거 전: 중학생')\n",
    "display(df2.head())"
   ]
  },
  {
   "cell_type": "markdown",
   "metadata": {},
   "source": [
    "## 검색 해시태그 제거"
   ]
  },
  {
   "cell_type": "code",
   "execution_count": 4,
   "metadata": {},
   "outputs": [],
   "source": [
    "# 각 직업별 검색 해시태그 (여러 개 가능)\n",
    "hashtags = [[\"군인\"], [\"교사\"], [\"중2\"]]\n",
    "N_category = 3 # 직업 카테고리 수\n",
    "\n",
    "def del_tags(tags, hashtag):\n",
    "    lst = []\n",
    "    for tag in tags:\n",
    "        if tag not in hashtag:\n",
    "            lst.append(tag)\n",
    "    return lst\n",
    "\n",
    "def del_freq(freq, hashtag):\n",
    "    dic = {}\n",
    "    for (w, i) in freq.items():\n",
    "        if w not in hashtag:\n",
    "            dic[w] = i\n",
    "    return dic\n",
    "\n",
    "def del_hashtag(num_df, hashtag):\n",
    "    df = globals()['df{}'.format(num_df)]\n",
    "    tags = df.tags.apply(lambda x: del_tags(x, hashtag))\n",
    "    freq = df.freq.apply(lambda x: del_freq(x, hashtag))\n",
    "    df['tags'] = tags\n",
    "    df['freq'] = freq\n",
    "    return df\n",
    "\n",
    "for i in range(N_category):\n",
    "    globals()['df{}'.format(i)] = del_hashtag(i, hashtags[i])"
   ]
  },
  {
   "cell_type": "code",
   "execution_count": 5,
   "metadata": {
    "tags": []
   },
   "outputs": [
    {
     "output_type": "stream",
     "name": "stdout",
     "text": "제거 후: 군인\n"
    },
    {
     "output_type": "display_data",
     "data": {
      "text/plain": "                                                freq  \\\n0                                 {'23': 1, '24': 1}   \n1  {'25': 5, '천안': 4, '22': 1, '군대': 1, '선임': 1, ...   \n2  {'셀카': 84, '맞팔': 84, '인친': 84, '소통': 84, '꿈': ...   \n3                                 {'산책': 1, '여유': 1}   \n4  {'여기조기요기': 1, '굿모닝': 1, '나온다나온다나이나온다': 1, '유노앤...   \n\n                                                tags      user_id  \\\n0                                           [23, 24]  24895167311   \n1  [25, 천안, 22, 군대, 선임, 후임, 남자랑, 데이트, 운동, 웨이트, 속초...   4648813963   \n2  [셀카, 맞팔, 인친, 소통, 꿈, 자부심, 팔로우, 선팔, 데일리, 여행스타그램,...   7806334927   \n3                                           [산책, 여유]  37806496856   \n4  [여기조기요기, 굿모닝, 나온다나온다나이나온다, 유노앤드요, 컴백, 웃음욕심, 노력...   5641751675   \n\n       user_name  \n0  hye_lim._.eee  \n1         96_ugi  \n2      soonshin_  \n3        dong_bz  \n4       _andyon_  ",
      "text/html": "<div>\n<style scoped>\n    .dataframe tbody tr th:only-of-type {\n        vertical-align: middle;\n    }\n\n    .dataframe tbody tr th {\n        vertical-align: top;\n    }\n\n    .dataframe thead th {\n        text-align: right;\n    }\n</style>\n<table border=\"1\" class=\"dataframe\">\n  <thead>\n    <tr style=\"text-align: right;\">\n      <th></th>\n      <th>freq</th>\n      <th>tags</th>\n      <th>user_id</th>\n      <th>user_name</th>\n    </tr>\n  </thead>\n  <tbody>\n    <tr>\n      <th>0</th>\n      <td>{'23': 1, '24': 1}</td>\n      <td>[23, 24]</td>\n      <td>24895167311</td>\n      <td>hye_lim._.eee</td>\n    </tr>\n    <tr>\n      <th>1</th>\n      <td>{'25': 5, '천안': 4, '22': 1, '군대': 1, '선임': 1, ...</td>\n      <td>[25, 천안, 22, 군대, 선임, 후임, 남자랑, 데이트, 운동, 웨이트, 속초...</td>\n      <td>4648813963</td>\n      <td>96_ugi</td>\n    </tr>\n    <tr>\n      <th>2</th>\n      <td>{'셀카': 84, '맞팔': 84, '인친': 84, '소통': 84, '꿈': ...</td>\n      <td>[셀카, 맞팔, 인친, 소통, 꿈, 자부심, 팔로우, 선팔, 데일리, 여행스타그램,...</td>\n      <td>7806334927</td>\n      <td>soonshin_</td>\n    </tr>\n    <tr>\n      <th>3</th>\n      <td>{'산책': 1, '여유': 1}</td>\n      <td>[산책, 여유]</td>\n      <td>37806496856</td>\n      <td>dong_bz</td>\n    </tr>\n    <tr>\n      <th>4</th>\n      <td>{'여기조기요기': 1, '굿모닝': 1, '나온다나온다나이나온다': 1, '유노앤...</td>\n      <td>[여기조기요기, 굿모닝, 나온다나온다나이나온다, 유노앤드요, 컴백, 웃음욕심, 노력...</td>\n      <td>5641751675</td>\n      <td>_andyon_</td>\n    </tr>\n  </tbody>\n</table>\n</div>"
     },
     "metadata": {}
    },
    {
     "output_type": "stream",
     "name": "stdout",
     "text": "제거 후: 교사\n"
    },
    {
     "output_type": "display_data",
     "data": {
      "text/plain": "                                                freq  \\\n0                                          {'범계': 1}   \n1  {'쌤스타그램': 21, '교사스타그램': 23, '선생님': 22, '선생님스타그...   \n2  {'25': 24, '쌩얼인거비밀': 1, '25살': 21, '일상': 32, '...   \n3  {'대구교총': 10, '교총': 6, '한국교총': 10, '이벤트': 2, '선...   \n4  {'제주대학교': 12, '수시모집요강': 1, '제주대학교2021학년도수시모집요강...   \n\n                                                tags      user_id  \\\n0                                               [범계]  30033400542   \n1  [쌤스타그램, 교사스타그램, 선생님, 선생님스타그램, 중학교, 노보텔앰배서더용산, ...   3033063913   \n2  [25, 쌩얼인거비밀, 25살, 일상, 코로나19, 마스크필수, 어린이집, 출근, ...   2241028185   \n3  [대구교총, 교총, 한국교총, 이벤트, 선생님, 교수, 유치원선생님, 쌤스타그램, ...   5571560038   \n4  [제주대학교, 수시모집요강, 제주대학교2021학년도수시모집요강, 전형일정, 모집단위...   5863131290   \n\n      user_name  \n0       d_jshin  \n1  iam_minthyun  \n2       90lka11  \n3  cheerup_2680  \n4   jejunu_ibsi  ",
      "text/html": "<div>\n<style scoped>\n    .dataframe tbody tr th:only-of-type {\n        vertical-align: middle;\n    }\n\n    .dataframe tbody tr th {\n        vertical-align: top;\n    }\n\n    .dataframe thead th {\n        text-align: right;\n    }\n</style>\n<table border=\"1\" class=\"dataframe\">\n  <thead>\n    <tr style=\"text-align: right;\">\n      <th></th>\n      <th>freq</th>\n      <th>tags</th>\n      <th>user_id</th>\n      <th>user_name</th>\n    </tr>\n  </thead>\n  <tbody>\n    <tr>\n      <th>0</th>\n      <td>{'범계': 1}</td>\n      <td>[범계]</td>\n      <td>30033400542</td>\n      <td>d_jshin</td>\n    </tr>\n    <tr>\n      <th>1</th>\n      <td>{'쌤스타그램': 21, '교사스타그램': 23, '선생님': 22, '선생님스타그...</td>\n      <td>[쌤스타그램, 교사스타그램, 선생님, 선생님스타그램, 중학교, 노보텔앰배서더용산, ...</td>\n      <td>3033063913</td>\n      <td>iam_minthyun</td>\n    </tr>\n    <tr>\n      <th>2</th>\n      <td>{'25': 24, '쌩얼인거비밀': 1, '25살': 21, '일상': 32, '...</td>\n      <td>[25, 쌩얼인거비밀, 25살, 일상, 코로나19, 마스크필수, 어린이집, 출근, ...</td>\n      <td>2241028185</td>\n      <td>90lka11</td>\n    </tr>\n    <tr>\n      <th>3</th>\n      <td>{'대구교총': 10, '교총': 6, '한국교총': 10, '이벤트': 2, '선...</td>\n      <td>[대구교총, 교총, 한국교총, 이벤트, 선생님, 교수, 유치원선생님, 쌤스타그램, ...</td>\n      <td>5571560038</td>\n      <td>cheerup_2680</td>\n    </tr>\n    <tr>\n      <th>4</th>\n      <td>{'제주대학교': 12, '수시모집요강': 1, '제주대학교2021학년도수시모집요강...</td>\n      <td>[제주대학교, 수시모집요강, 제주대학교2021학년도수시모집요강, 전형일정, 모집단위...</td>\n      <td>5863131290</td>\n      <td>jejunu_ibsi</td>\n    </tr>\n  </tbody>\n</table>\n</div>"
     },
     "metadata": {}
    },
    {
     "output_type": "stream",
     "name": "stdout",
     "text": "제거 후: 중학생\n"
    },
    {
     "output_type": "display_data",
     "data": {
      "text/plain": "                                                freq  \\\n0  {'모트트레인9월1일차': 1, '모트트레인': 1, '고려대학교': 2, '공스타...   \n1        {'칼단발': 1, '단발': 1, '집콕중': 1, '놀러가고싶어요': 1}   \n2                                                 {}   \n3  {'열공': 38, '인스': 4, '엉망진창': 1, '실수때매': 1, '망함'...   \n4  {'06': 20, '0606': 9, '공부인증그램': 2, '공부인증': 5, ...   \n\n                                                tags      user_id  \\\n0                  [모트트레인9월1일차, 모트트레인, 고려대학교, 공스타소통]  40090360824   \n1                            [칼단발, 단발, 집콕중, 놀러가고싶어요]   9632681759   \n2                                                 []  15470222343   \n3  [열공, 인스, 엉망진창, 실수때매, 망함, 공부, 공스타그램, 초6, 예비중, 중...  25539217889   \n4  [06, 0606, 공부인증그램, 공부인증, 공부인증샷, 공부인증계정, 공스타그램,...  27400344693   \n\n       user_name  \n0     t.memory_0  \n1    hye0njiye0n  \n2  shinchaehee06  \n3   yeowon_study  \n4  _medic.__.kim  ",
      "text/html": "<div>\n<style scoped>\n    .dataframe tbody tr th:only-of-type {\n        vertical-align: middle;\n    }\n\n    .dataframe tbody tr th {\n        vertical-align: top;\n    }\n\n    .dataframe thead th {\n        text-align: right;\n    }\n</style>\n<table border=\"1\" class=\"dataframe\">\n  <thead>\n    <tr style=\"text-align: right;\">\n      <th></th>\n      <th>freq</th>\n      <th>tags</th>\n      <th>user_id</th>\n      <th>user_name</th>\n    </tr>\n  </thead>\n  <tbody>\n    <tr>\n      <th>0</th>\n      <td>{'모트트레인9월1일차': 1, '모트트레인': 1, '고려대학교': 2, '공스타...</td>\n      <td>[모트트레인9월1일차, 모트트레인, 고려대학교, 공스타소통]</td>\n      <td>40090360824</td>\n      <td>t.memory_0</td>\n    </tr>\n    <tr>\n      <th>1</th>\n      <td>{'칼단발': 1, '단발': 1, '집콕중': 1, '놀러가고싶어요': 1}</td>\n      <td>[칼단발, 단발, 집콕중, 놀러가고싶어요]</td>\n      <td>9632681759</td>\n      <td>hye0njiye0n</td>\n    </tr>\n    <tr>\n      <th>2</th>\n      <td>{}</td>\n      <td>[]</td>\n      <td>15470222343</td>\n      <td>shinchaehee06</td>\n    </tr>\n    <tr>\n      <th>3</th>\n      <td>{'열공': 38, '인스': 4, '엉망진창': 1, '실수때매': 1, '망함'...</td>\n      <td>[열공, 인스, 엉망진창, 실수때매, 망함, 공부, 공스타그램, 초6, 예비중, 중...</td>\n      <td>25539217889</td>\n      <td>yeowon_study</td>\n    </tr>\n    <tr>\n      <th>4</th>\n      <td>{'06': 20, '0606': 9, '공부인증그램': 2, '공부인증': 5, ...</td>\n      <td>[06, 0606, 공부인증그램, 공부인증, 공부인증샷, 공부인증계정, 공스타그램,...</td>\n      <td>27400344693</td>\n      <td>_medic.__.kim</td>\n    </tr>\n  </tbody>\n</table>\n</div>"
     },
     "metadata": {}
    }
   ],
   "source": [
    "print('제거 후: 군인')\n",
    "display(df0.head())\n",
    "print('제거 후: 교사')\n",
    "display(df1.head())\n",
    "print('제거 후: 중학생')\n",
    "display(df2.head())"
   ]
  },
  {
   "cell_type": "code",
   "execution_count": 7,
   "metadata": {},
   "outputs": [
    {
     "output_type": "execute_result",
     "data": {
      "text/plain": "[('일상', 7),\n ('휴가', 6),\n ('맞팔', 5),\n ('서울', 5),\n ('힐링', 5),\n ('좋아요', 5),\n ('대학생', 5),\n ('강원도', 4),\n ('코로나', 4),\n ('셀카', 4)]"
     },
     "metadata": {},
     "execution_count": 7
    }
   ],
   "source": [
    "# 군인\n",
    "freq_whole0.most_common(10)"
   ]
  },
  {
   "cell_type": "markdown",
   "metadata": {},
   "source": [
    "## 새로운 voca dict 생성\n",
    "단어의 등장 문서수가 직업군의 절반을 넘을 경우, 해당 단어를 제거한 새로운 딕셔너리 생성(각 직업군에 대표성 있다고 판단)"
   ]
  },
  {
   "cell_type": "code",
   "execution_count": 8,
   "metadata": {
    "tags": []
   },
   "outputs": [],
   "source": [
    "for i in range(N_category):\n",
    "    globals()['voca{}'.format(i)] = {}\n",
    "    globals()['freq_other{}'.format(i)] = {}\n",
    "\n",
    "for num in range(N_category):\n",
    "    for (w, n) in globals()['freq_whole{}'.format(num)].items():\n",
    "        w_freq = 1\n",
    "        for i in range(N_category):\n",
    "            if i != num:\n",
    "                if w in globals()['freq_whole{}'.format(i)]:\n",
    "                    w_freq += 1\n",
    "        globals()['freq_other{}'.format(num)][w] = w_freq\n",
    "        if w_freq <= N_category//2:\n",
    "            globals()['voca{}'.format(num)][w] = n"
   ]
  },
  {
   "cell_type": "code",
   "execution_count": null,
   "metadata": {},
   "outputs": [],
   "source": [
    "# 각 직업의 대표성을 띠는 단어들\n",
    "# voca0, voca1, voca2\n",
    "\n",
    "# 등장한 문서 수\n",
    "# freq_other0, freq_other1, freq_other2"
   ]
  },
  {
   "cell_type": "code",
   "execution_count": 9,
   "metadata": {},
   "outputs": [],
   "source": [
    "N = 10 # 상위 몇 개를 뽑아낼지 지정\n",
    "for i in range(N_category):\n",
    "    globals()['voca{}_top'.format(i)] = dict(Counter(globals()['voca{}'.format(i)]).most_common(N))"
   ]
  },
  {
   "cell_type": "code",
   "execution_count": 10,
   "metadata": {},
   "outputs": [
    {
     "output_type": "execute_result",
     "data": {
      "text/plain": "({'속초': 3,\n  '부사관': 3,\n  '24': 2,\n  '천안': 2,\n  '고성': 2,\n  '보내줘': 2,\n  '1943': 2,\n  '웃자': 2,\n  '난': 2,\n  '장교': 2},\n {'교사스타그램': 14,\n  '쌤스타그램': 8,\n  '원격수업': 6,\n  '학부모': 6,\n  '고등학교': 5,\n  '스타벅스': 5,\n  '어린이집': 4,\n  '힐링타임': 4,\n  '스승의날': 4,\n  '책': 4},\n {'06': 12,\n  '06년생': 11,\n  '중2공스타그램': 8,\n  '공스타그램맞팔': 7,\n  '모트모트': 6,\n  '모트모트플래너': 6,\n  '중2공스타': 5,\n  '15살': 5,\n  '공부하자': 5,\n  '중간피드': 5})"
     },
     "metadata": {},
     "execution_count": 10
    }
   ],
   "source": [
    "# 상위 N개의 voca dict\n",
    "voca0_top, voca1_top, voca2_top"
   ]
  },
  {
   "cell_type": "markdown",
   "metadata": {},
   "source": [
    "## negative dict 생성\n",
    "- 타 직업군의 voca를 다 더한다.\n",
    "- 처음에 지웠던 검색 해시태그도 추가해주기(빈도수는 df 길이, 즉 최대값으로)"
   ]
  },
  {
   "cell_type": "code",
   "execution_count": 11,
   "metadata": {},
   "outputs": [],
   "source": [
    "for i in range(N_category):\n",
    "    globals()['neg{}'.format(i)] = Counter()\n",
    "\n",
    "for i in range(N_category):\n",
    "    for j in range(N_category):\n",
    "        if j != i:\n",
    "            globals()['neg{}'.format(i)] += Counter(globals()['voca{}_top'.format(j)])"
   ]
  },
  {
   "cell_type": "code",
   "execution_count": null,
   "metadata": {},
   "outputs": [],
   "source": [
    "# 타 직업군에서의 단어 목록\n",
    "# neg0, neg1, neg2"
   ]
  },
  {
   "cell_type": "markdown",
   "metadata": {},
   "source": [
    "## neg voca에 많이 등장할수록 중요도를 낮추는 방법 고찰\n",
    "### negative voca에 sigmoid 적용하기\n",
    "- 목표: 다른 직업군을 대표하는 단어가 등장할수록 0에 가깝고 그 외의 경우에는 1에 가깝게\n",
    "- 상-하 뒤집은 후 x축으로 +N_sigmoid만큼 평행이동한 sigmoid 적용 (0~1사이 값, 변곡점은 N_sigmoid에 위치)\n",
    "- N_sigmoid는 neg 단어의 빈도수 보고 조정해야 함(상위 200개의 중위값?)\n",
    "- 상위 N개의 평균 값 정도가 적절할듯"
   ]
  },
  {
   "cell_type": "code",
   "execution_count": 12,
   "metadata": {},
   "outputs": [],
   "source": [
    "for i in range(N_category):\n",
    "    n_job = len(globals()[f'df{i}'])\n",
    "    for j, tag in enumerate(hashtags):\n",
    "        if j != i:\n",
    "            for t in tag:\n",
    "                globals()[f'neg{i}'][t] = n_job"
   ]
  },
  {
   "cell_type": "code",
   "execution_count": 13,
   "metadata": {},
   "outputs": [],
   "source": [
    "def mysigmoid(x, N_sigmoid):\n",
    "    return 1 / (1 + np.exp(x - N_sigmoid))\n",
    "\n",
    "for i in range(N_category):\n",
    "    globals()['neg{}_sig'.format(i)] = {}\n",
    "\n",
    "for i in range(N_category):\n",
    "    neg = globals()['neg{}'.format(i)]\n",
    "    N_sigmoid = neg.most_common(N)[N//2][1] # neg 상위 N개의 중위값\n",
    "    for (w, n) in neg.items():\n",
    "        globals()['neg{}_sig'.format(i)][w] = mysigmoid(n, N_sigmoid)"
   ]
  },
  {
   "cell_type": "code",
   "execution_count": null,
   "metadata": {},
   "outputs": [],
   "source": [
    "# neg0_sig, neg1_sig, neg2_sig"
   ]
  },
  {
   "cell_type": "markdown",
   "metadata": {},
   "source": [
    "# scoring\n",
    "### score = 평균( 해시태그 사용 빈도수 x tf-idf x neg_sig )\n",
    "\n",
    "- 주부, 백수는 계산할 필요 없음\n",
    "- 카테고리별 해시태그 단어 중요도: negative 변수를 곱한 tf-idf\n",
    "- 각 유저의 해시태그 사용 총 빈도수로 나눈 값을 최종 스코어로 활용"
   ]
  },
  {
   "cell_type": "code",
   "execution_count": 14,
   "metadata": {
    "tags": []
   },
   "outputs": [],
   "source": [
    "for i in range(N_category):\n",
    "    globals()['df{}'.format(i)]['score'] = 0"
   ]
  },
  {
   "cell_type": "code",
   "execution_count": 15,
   "metadata": {},
   "outputs": [],
   "source": [
    "# 카테고리별 단어들의 tf-idf\n",
    "for i in range(N_category):\n",
    "    globals()['tf_idf{}'.format(i)] = {}\n",
    "    for (w, n) in globals()['freq_whole{}'.format(i)].items():\n",
    "        tf = n\n",
    "        idf = np.log( N_category / (1 + globals()['freq_other{}'.format(i)][w]) )\n",
    "        globals()['tf_idf{}'.format(i)][w] = tf * idf"
   ]
  },
  {
   "cell_type": "code",
   "execution_count": 16,
   "metadata": {},
   "outputs": [],
   "source": [
    "def scoring(freq_row, num_df):\n",
    "    score = 0\n",
    "    N_tags = sum(freq_row.values())\n",
    "    ti = globals()[f'tf_idf{num_df}']\n",
    "\n",
    "    for (w, n) in freq_row.items():\n",
    "        tf_idf = ti[w]\n",
    "        try:\n",
    "            neg = globals()['neg{}_sig'.format(num_df)][w]\n",
    "        except:\n",
    "            neg = 1\n",
    "        score += tf_idf * neg / N_tags\n",
    "    \n",
    "    return score"
   ]
  },
  {
   "cell_type": "code",
   "execution_count": 17,
   "metadata": {},
   "outputs": [],
   "source": [
    "# 실제로 돌릴때는 N_category-2 (주부, 백수)\n",
    "\n",
    "for i in range(N_category):\n",
    "    globals()['df{}'.format(i)]['score'] = globals()['df{}'.format(i)]['freq'].apply(lambda x: scoring(x, i))"
   ]
  },
  {
   "cell_type": "markdown",
   "metadata": {},
   "source": [
    "# Filtering Result"
   ]
  },
  {
   "cell_type": "markdown",
   "metadata": {},
   "source": [
    "### 1. 해당 직업군이 맞다."
   ]
  },
  {
   "cell_type": "code",
   "execution_count": 18,
   "metadata": {
    "tags": []
   },
   "outputs": [
    {
     "output_type": "stream",
     "name": "stdout",
     "text": "군인\n"
    },
    {
     "output_type": "display_data",
     "data": {
      "text/plain": "                                                 freq  \\\n10                              {'정복': 1, '군스타그램': 1}   \n0                                  {'23': 1, '24': 1}   \n19                               {'3년째': 1, '연애중': 1}   \n18  {'창선동먹자골목': 1, '유럽여행': 1, '속옷쇼핑몰': 1, '초가을': 1...   \n4   {'여기조기요기': 1, '굿모닝': 1, '나온다나온다나이나온다': 1, '유노앤...   \n12  {'고맙다': 1, '아사도': 1, '바베큐': 2, '홀푸드마켓': 1, '갈비...   \n7   {'태풍뒤맑음': 1, '러닝': 4, '딥스': 1, '싯업': 1, '난': 1...   \n15  {'여자숏컷': 1, '블론드': 1, '디자이너강철': 3, '미용실': 2, '...   \n21  {'군대선물': 1, '군인스타그램': 2, '말년병장': 1, '전역전휴가': 1...   \n16  {'리그램': 9, '생각의차이가미래를바꾼다': 5, '과거사진': 1, '챔프지점...   \n\n                                                 tags      user_id  \\\n10                                        [정복, 군스타그램]   8523336865   \n0                                            [23, 24]  24895167311   \n19                                         [3년째, 연애중]   1556311885   \n18  [창선동먹자골목, 유럽여행, 속옷쇼핑몰, 초가을, 내장산, 일본야동, 만남섹스, 야...  40704112925   \n4   [여기조기요기, 굿모닝, 나온다나온다나이나온다, 유노앤드요, 컴백, 웃음욕심, 노력...   5641751675   \n12  [고맙다, 아사도, 바베큐, 홀푸드마켓, 갈비, 주말, 스모크, 텍사스, 브리스킷,...  21740141066   \n7   [태풍뒤맑음, 러닝, 딥스, 싯업, 난, 넉다운, 신체검사, 말라깽이, 벌크업, 살...   6733917822   \n15  [여자숏컷, 블론드, 디자이너강철, 미용실, 신촌미용실, 서대문구미용실, 마포구미용...  40276026268   \n21  [군대선물, 군인스타그램, 말년병장, 전역전휴가, 집으로, 경찰공무원, 경찰공무원시...   2354879232   \n16  [리그램, 생각의차이가미래를바꾼다, 과거사진, 챔프지점장, 신라호텔, 더파크뷰, 우...   2015100987   \n\n                  user_name     score  \n10            nan__jinyoung  0.810930  \n0             hye_lim._.eee  0.608198  \n19                seol_h16_  0.405465  \n18                cvbdbcvnd  0.317865  \n4                  _andyon_  0.314886  \n12             citihunter88  0.267508  \n7   yolo_youonlyliveonce_95  0.258696  \n15           riahn_shinchon  0.244473  \n21             ryuji_1225__  0.235456  \n16                  az_one1  0.229176  ",
      "text/html": "<div>\n<style scoped>\n    .dataframe tbody tr th:only-of-type {\n        vertical-align: middle;\n    }\n\n    .dataframe tbody tr th {\n        vertical-align: top;\n    }\n\n    .dataframe thead th {\n        text-align: right;\n    }\n</style>\n<table border=\"1\" class=\"dataframe\">\n  <thead>\n    <tr style=\"text-align: right;\">\n      <th></th>\n      <th>freq</th>\n      <th>tags</th>\n      <th>user_id</th>\n      <th>user_name</th>\n      <th>score</th>\n    </tr>\n  </thead>\n  <tbody>\n    <tr>\n      <th>10</th>\n      <td>{'정복': 1, '군스타그램': 1}</td>\n      <td>[정복, 군스타그램]</td>\n      <td>8523336865</td>\n      <td>nan__jinyoung</td>\n      <td>0.810930</td>\n    </tr>\n    <tr>\n      <th>0</th>\n      <td>{'23': 1, '24': 1}</td>\n      <td>[23, 24]</td>\n      <td>24895167311</td>\n      <td>hye_lim._.eee</td>\n      <td>0.608198</td>\n    </tr>\n    <tr>\n      <th>19</th>\n      <td>{'3년째': 1, '연애중': 1}</td>\n      <td>[3년째, 연애중]</td>\n      <td>1556311885</td>\n      <td>seol_h16_</td>\n      <td>0.405465</td>\n    </tr>\n    <tr>\n      <th>18</th>\n      <td>{'창선동먹자골목': 1, '유럽여행': 1, '속옷쇼핑몰': 1, '초가을': 1...</td>\n      <td>[창선동먹자골목, 유럽여행, 속옷쇼핑몰, 초가을, 내장산, 일본야동, 만남섹스, 야...</td>\n      <td>40704112925</td>\n      <td>cvbdbcvnd</td>\n      <td>0.317865</td>\n    </tr>\n    <tr>\n      <th>4</th>\n      <td>{'여기조기요기': 1, '굿모닝': 1, '나온다나온다나이나온다': 1, '유노앤...</td>\n      <td>[여기조기요기, 굿모닝, 나온다나온다나이나온다, 유노앤드요, 컴백, 웃음욕심, 노력...</td>\n      <td>5641751675</td>\n      <td>_andyon_</td>\n      <td>0.314886</td>\n    </tr>\n    <tr>\n      <th>12</th>\n      <td>{'고맙다': 1, '아사도': 1, '바베큐': 2, '홀푸드마켓': 1, '갈비...</td>\n      <td>[고맙다, 아사도, 바베큐, 홀푸드마켓, 갈비, 주말, 스모크, 텍사스, 브리스킷,...</td>\n      <td>21740141066</td>\n      <td>citihunter88</td>\n      <td>0.267508</td>\n    </tr>\n    <tr>\n      <th>7</th>\n      <td>{'태풍뒤맑음': 1, '러닝': 4, '딥스': 1, '싯업': 1, '난': 1...</td>\n      <td>[태풍뒤맑음, 러닝, 딥스, 싯업, 난, 넉다운, 신체검사, 말라깽이, 벌크업, 살...</td>\n      <td>6733917822</td>\n      <td>yolo_youonlyliveonce_95</td>\n      <td>0.258696</td>\n    </tr>\n    <tr>\n      <th>15</th>\n      <td>{'여자숏컷': 1, '블론드': 1, '디자이너강철': 3, '미용실': 2, '...</td>\n      <td>[여자숏컷, 블론드, 디자이너강철, 미용실, 신촌미용실, 서대문구미용실, 마포구미용...</td>\n      <td>40276026268</td>\n      <td>riahn_shinchon</td>\n      <td>0.244473</td>\n    </tr>\n    <tr>\n      <th>21</th>\n      <td>{'군대선물': 1, '군인스타그램': 2, '말년병장': 1, '전역전휴가': 1...</td>\n      <td>[군대선물, 군인스타그램, 말년병장, 전역전휴가, 집으로, 경찰공무원, 경찰공무원시...</td>\n      <td>2354879232</td>\n      <td>ryuji_1225__</td>\n      <td>0.235456</td>\n    </tr>\n    <tr>\n      <th>16</th>\n      <td>{'리그램': 9, '생각의차이가미래를바꾼다': 5, '과거사진': 1, '챔프지점...</td>\n      <td>[리그램, 생각의차이가미래를바꾼다, 과거사진, 챔프지점장, 신라호텔, 더파크뷰, 우...</td>\n      <td>2015100987</td>\n      <td>az_one1</td>\n      <td>0.229176</td>\n    </tr>\n  </tbody>\n</table>\n</div>"
     },
     "metadata": {}
    },
    {
     "output_type": "stream",
     "name": "stdout",
     "text": "교사\n"
    },
    {
     "output_type": "display_data",
     "data": {
      "text/plain": "                                                 freq  \\\n20  {'마카롱': 1, '케이크': 1, '앙샤르': 1, '입생로랑': 1, '입생로...   \n7   {'특수교사': 4, '장애': 1, '장애학': 1, '인식개선': 1, '부모교...   \n25  {'20200901': 1, '20200831': 1, '20200830': 1, ...   \n0                                           {'범계': 1}   \n4   {'제주대학교': 12, '수시모집요강': 1, '제주대학교2021학년도수시모집요강...   \n15  {'온라인수업': 1, '원격수업': 1, '준비': 1, '2': 1, '호텔수성...   \n34  {'싱글오리진': 1, '콜드브루': 1, '2': 4, '힐링': 5, '1': ...   \n9   {'정리컨설턴트': 1, '심플라이프': 1, '미니멀라이프': 1, '신박한정리'...   \n3   {'대구교총': 10, '교총': 6, '한국교총': 10, '이벤트': 2, '선...   \n14  {'생일선물': 1, '인스탁스': 1, '미니11': 1, '폴라로이드': 1, ...   \n\n                                                 tags      user_id  \\\n20  [마카롱, 케이크, 앙샤르, 입생로랑, 입생로랑립스틱, 스벅, 스타벅스, 스타벅스다...   2073873648   \n7   [특수교사, 장애, 장애학, 인식개선, 부모교육, 소통, 학급밴드, 2년차, 학부모...  25969033493   \n25  [20200901, 20200831, 20200830, 20200827, 20200...  27060861703   \n0                                                [범계]  30033400542   \n4   [제주대학교, 수시모집요강, 제주대학교2021학년도수시모집요강, 전형일정, 모집단위...   5863131290   \n15  [온라인수업, 원격수업, 준비, 2, 호텔수성, 수성호텔수영장, 헬린이, 헬린이의하...   1104816726   \n34  [싱글오리진, 콜드브루, 2, 힐링, 1, 이게바로찐행복, 여유, 조명이다함, 많이...   1582106312   \n9   [정리컨설턴트, 심플라이프, 미니멀라이프, 신박한정리, 정리방법, 수납방법, 수납꿀...   8540797781   \n3   [대구교총, 교총, 한국교총, 이벤트, 선생님, 교수, 유치원선생님, 쌤스타그램, ...   5571560038   \n14  [생일선물, 인스탁스, 미니11, 폴라로이드, 카메라, 친구가찍어준, 이벤트제조기,...   1315607116   \n\n       user_name     score  \n20        g_0on_  0.608198  \n7   sped.learner  0.409328  \n25      xxpeukxx  0.405465  \n0        d_jshin  0.405465  \n4    jejunu_ibsi  0.359126  \n15     __j.kwang  0.293370  \n34  sangik_kkkkk  0.282269  \n9     vs_tschool  0.268618  \n3   cheerup_2680  0.234067  \n14   hi_sunset.k  0.222743  ",
      "text/html": "<div>\n<style scoped>\n    .dataframe tbody tr th:only-of-type {\n        vertical-align: middle;\n    }\n\n    .dataframe tbody tr th {\n        vertical-align: top;\n    }\n\n    .dataframe thead th {\n        text-align: right;\n    }\n</style>\n<table border=\"1\" class=\"dataframe\">\n  <thead>\n    <tr style=\"text-align: right;\">\n      <th></th>\n      <th>freq</th>\n      <th>tags</th>\n      <th>user_id</th>\n      <th>user_name</th>\n      <th>score</th>\n    </tr>\n  </thead>\n  <tbody>\n    <tr>\n      <th>20</th>\n      <td>{'마카롱': 1, '케이크': 1, '앙샤르': 1, '입생로랑': 1, '입생로...</td>\n      <td>[마카롱, 케이크, 앙샤르, 입생로랑, 입생로랑립스틱, 스벅, 스타벅스, 스타벅스다...</td>\n      <td>2073873648</td>\n      <td>g_0on_</td>\n      <td>0.608198</td>\n    </tr>\n    <tr>\n      <th>7</th>\n      <td>{'특수교사': 4, '장애': 1, '장애학': 1, '인식개선': 1, '부모교...</td>\n      <td>[특수교사, 장애, 장애학, 인식개선, 부모교육, 소통, 학급밴드, 2년차, 학부모...</td>\n      <td>25969033493</td>\n      <td>sped.learner</td>\n      <td>0.409328</td>\n    </tr>\n    <tr>\n      <th>25</th>\n      <td>{'20200901': 1, '20200831': 1, '20200830': 1, ...</td>\n      <td>[20200901, 20200831, 20200830, 20200827, 20200...</td>\n      <td>27060861703</td>\n      <td>xxpeukxx</td>\n      <td>0.405465</td>\n    </tr>\n    <tr>\n      <th>0</th>\n      <td>{'범계': 1}</td>\n      <td>[범계]</td>\n      <td>30033400542</td>\n      <td>d_jshin</td>\n      <td>0.405465</td>\n    </tr>\n    <tr>\n      <th>4</th>\n      <td>{'제주대학교': 12, '수시모집요강': 1, '제주대학교2021학년도수시모집요강...</td>\n      <td>[제주대학교, 수시모집요강, 제주대학교2021학년도수시모집요강, 전형일정, 모집단위...</td>\n      <td>5863131290</td>\n      <td>jejunu_ibsi</td>\n      <td>0.359126</td>\n    </tr>\n    <tr>\n      <th>15</th>\n      <td>{'온라인수업': 1, '원격수업': 1, '준비': 1, '2': 1, '호텔수성...</td>\n      <td>[온라인수업, 원격수업, 준비, 2, 호텔수성, 수성호텔수영장, 헬린이, 헬린이의하...</td>\n      <td>1104816726</td>\n      <td>__j.kwang</td>\n      <td>0.293370</td>\n    </tr>\n    <tr>\n      <th>34</th>\n      <td>{'싱글오리진': 1, '콜드브루': 1, '2': 4, '힐링': 5, '1': ...</td>\n      <td>[싱글오리진, 콜드브루, 2, 힐링, 1, 이게바로찐행복, 여유, 조명이다함, 많이...</td>\n      <td>1582106312</td>\n      <td>sangik_kkkkk</td>\n      <td>0.282269</td>\n    </tr>\n    <tr>\n      <th>9</th>\n      <td>{'정리컨설턴트': 1, '심플라이프': 1, '미니멀라이프': 1, '신박한정리'...</td>\n      <td>[정리컨설턴트, 심플라이프, 미니멀라이프, 신박한정리, 정리방법, 수납방법, 수납꿀...</td>\n      <td>8540797781</td>\n      <td>vs_tschool</td>\n      <td>0.268618</td>\n    </tr>\n    <tr>\n      <th>3</th>\n      <td>{'대구교총': 10, '교총': 6, '한국교총': 10, '이벤트': 2, '선...</td>\n      <td>[대구교총, 교총, 한국교총, 이벤트, 선생님, 교수, 유치원선생님, 쌤스타그램, ...</td>\n      <td>5571560038</td>\n      <td>cheerup_2680</td>\n      <td>0.234067</td>\n    </tr>\n    <tr>\n      <th>14</th>\n      <td>{'생일선물': 1, '인스탁스': 1, '미니11': 1, '폴라로이드': 1, ...</td>\n      <td>[생일선물, 인스탁스, 미니11, 폴라로이드, 카메라, 친구가찍어준, 이벤트제조기,...</td>\n      <td>1315607116</td>\n      <td>hi_sunset.k</td>\n      <td>0.222743</td>\n    </tr>\n  </tbody>\n</table>\n</div>"
     },
     "metadata": {}
    },
    {
     "output_type": "stream",
     "name": "stdout",
     "text": "중2\n"
    },
    {
     "output_type": "display_data",
     "data": {
      "text/plain": "                                                 freq  \\\n9                        {'중간피드': 1, '20203월모의고사': 1}   \n5   {'06년생': 3, '15살': 3, '전신샷': 1, '색칠스타그램': 1, '...   \n8   {'중간피드': 2, '제품제공': 2, '제브라': 1, '열공인증이벤트': 1,...   \n13  {'공스타': 4, '공스타그램맞팔': 4, '공스타맞팔': 4, '공부': 7, ...   \n6                   {'청남대': 1, '영남대학교': 1, '시골소녀': 1}   \n18                                        {'삭제피드': 1}   \n31  {'06': 2, '공스타그램': 5, '열공인증': 1, '사진태그': 2, '토...   \n12  {'06': 3, '15': 2, '06년생': 1, '중딩': 1, '셀스타그램'...   \n4   {'06': 20, '0606': 9, '공부인증그램': 2, '공부인증': 5, ...   \n25  {'중딩': 11, '중학생': 5, '중학교2학년': 2, '중학생2학년': 1,...   \n\n                                                 tags      user_id  \\\n9                                  [중간피드, 20203월모의고사]  30961379040   \n5   [06년생, 15살, 전신샷, 색칠스타그램, 소녀, 취미생활, 취미스타그램, 소확행...  40532744267   \n8              [중간피드, 제품제공, 제브라, 열공인증이벤트, 제브라방구석열공인증]  31709879503   \n13  [공스타, 공스타그램맞팔, 공스타맞팔, 공부, 공스타그램, 모트모트스터디플래너, 모...  26012283906   \n6                                  [청남대, 영남대학교, 시골소녀]   3765300236   \n18                                             [삭제피드]  38992930746   \n31  [06, 공스타그램, 열공인증, 사진태그, 토이스토리, 포키, 좋아요테러, 댓글환영...  39499839360   \n12  [06, 15, 06년생, 중딩, 셀스타그램, 같은사람, 다른느낌, 친구들이, 좋아...   7989354612   \n4   [06, 0606, 공부인증그램, 공부인증, 공부인증샷, 공부인증계정, 공스타그램,...  27400344693   \n25  [중딩, 중학생, 중학교2학년, 중학생2학년, 중학생공부, 중학교공부, 중2공부, ...  40159949686   \n\n         user_name     score  \n9       _lovewesxt  1.216395  \n5         isy._.06  0.592603  \n8       1221_wish_  0.521312  \n13     naeun.__.06  0.446839  \n6       yunji_1701  0.405465  \n18    gmldnjss._.1  0.405465  \n31    happysh_8686  0.343607  \n12         amj0624  0.342442  \n4    _medic.__.kim  0.289618  \n25  hyisu__x__x_06  0.232078  ",
      "text/html": "<div>\n<style scoped>\n    .dataframe tbody tr th:only-of-type {\n        vertical-align: middle;\n    }\n\n    .dataframe tbody tr th {\n        vertical-align: top;\n    }\n\n    .dataframe thead th {\n        text-align: right;\n    }\n</style>\n<table border=\"1\" class=\"dataframe\">\n  <thead>\n    <tr style=\"text-align: right;\">\n      <th></th>\n      <th>freq</th>\n      <th>tags</th>\n      <th>user_id</th>\n      <th>user_name</th>\n      <th>score</th>\n    </tr>\n  </thead>\n  <tbody>\n    <tr>\n      <th>9</th>\n      <td>{'중간피드': 1, '20203월모의고사': 1}</td>\n      <td>[중간피드, 20203월모의고사]</td>\n      <td>30961379040</td>\n      <td>_lovewesxt</td>\n      <td>1.216395</td>\n    </tr>\n    <tr>\n      <th>5</th>\n      <td>{'06년생': 3, '15살': 3, '전신샷': 1, '색칠스타그램': 1, '...</td>\n      <td>[06년생, 15살, 전신샷, 색칠스타그램, 소녀, 취미생활, 취미스타그램, 소확행...</td>\n      <td>40532744267</td>\n      <td>isy._.06</td>\n      <td>0.592603</td>\n    </tr>\n    <tr>\n      <th>8</th>\n      <td>{'중간피드': 2, '제품제공': 2, '제브라': 1, '열공인증이벤트': 1,...</td>\n      <td>[중간피드, 제품제공, 제브라, 열공인증이벤트, 제브라방구석열공인증]</td>\n      <td>31709879503</td>\n      <td>1221_wish_</td>\n      <td>0.521312</td>\n    </tr>\n    <tr>\n      <th>13</th>\n      <td>{'공스타': 4, '공스타그램맞팔': 4, '공스타맞팔': 4, '공부': 7, ...</td>\n      <td>[공스타, 공스타그램맞팔, 공스타맞팔, 공부, 공스타그램, 모트모트스터디플래너, 모...</td>\n      <td>26012283906</td>\n      <td>naeun.__.06</td>\n      <td>0.446839</td>\n    </tr>\n    <tr>\n      <th>6</th>\n      <td>{'청남대': 1, '영남대학교': 1, '시골소녀': 1}</td>\n      <td>[청남대, 영남대학교, 시골소녀]</td>\n      <td>3765300236</td>\n      <td>yunji_1701</td>\n      <td>0.405465</td>\n    </tr>\n    <tr>\n      <th>18</th>\n      <td>{'삭제피드': 1}</td>\n      <td>[삭제피드]</td>\n      <td>38992930746</td>\n      <td>gmldnjss._.1</td>\n      <td>0.405465</td>\n    </tr>\n    <tr>\n      <th>31</th>\n      <td>{'06': 2, '공스타그램': 5, '열공인증': 1, '사진태그': 2, '토...</td>\n      <td>[06, 공스타그램, 열공인증, 사진태그, 토이스토리, 포키, 좋아요테러, 댓글환영...</td>\n      <td>39499839360</td>\n      <td>happysh_8686</td>\n      <td>0.343607</td>\n    </tr>\n    <tr>\n      <th>12</th>\n      <td>{'06': 3, '15': 2, '06년생': 1, '중딩': 1, '셀스타그램'...</td>\n      <td>[06, 15, 06년생, 중딩, 셀스타그램, 같은사람, 다른느낌, 친구들이, 좋아...</td>\n      <td>7989354612</td>\n      <td>amj0624</td>\n      <td>0.342442</td>\n    </tr>\n    <tr>\n      <th>4</th>\n      <td>{'06': 20, '0606': 9, '공부인증그램': 2, '공부인증': 5, ...</td>\n      <td>[06, 0606, 공부인증그램, 공부인증, 공부인증샷, 공부인증계정, 공스타그램,...</td>\n      <td>27400344693</td>\n      <td>_medic.__.kim</td>\n      <td>0.289618</td>\n    </tr>\n    <tr>\n      <th>25</th>\n      <td>{'중딩': 11, '중학생': 5, '중학교2학년': 2, '중학생2학년': 1,...</td>\n      <td>[중딩, 중학생, 중학교2학년, 중학생2학년, 중학생공부, 중학교공부, 중2공부, ...</td>\n      <td>40159949686</td>\n      <td>hyisu__x__x_06</td>\n      <td>0.232078</td>\n    </tr>\n  </tbody>\n</table>\n</div>"
     },
     "metadata": {}
    }
   ],
   "source": [
    "print('군인')\n",
    "display(df0.sort_values(by='score', ascending=False).head(10))\n",
    "print('교사')\n",
    "display(df1.sort_values(by='score', ascending=False).head(10))\n",
    "print('중2')\n",
    "display(df2.sort_values(by='score', ascending=False).head(10))"
   ]
  },
  {
   "cell_type": "markdown",
   "metadata": {},
   "source": [
    "### 2. 해당 직업군이 아니다."
   ]
  },
  {
   "cell_type": "code",
   "execution_count": 19,
   "metadata": {
    "tags": []
   },
   "outputs": [
    {
     "output_type": "stream",
     "name": "stdout",
     "text": "군인\n"
    },
    {
     "output_type": "display_data",
     "data": {
      "text/plain": "                                                 freq  \\\n3                                  {'산책': 1, '여유': 1}   \n29  {'대한민국': 1, '국방의': 1, '폭염주의보': 1, '남해': 1, '힐링...   \n23  {'해군': 2, '첫줄': 1, '팔로워': 1, '부사관': 1, '맞팔': 2...   \n30  {'하늘': 1, '구름': 1, '여름': 1, '거울셀카': 1, '셀카놀이':...   \n14  {'오오티디': 2, '셀피': 7, '골프': 3, '골프선수': 6, '골프스윙...   \n20                                                 {}   \n11                                                 {}   \n22                                                 {}   \n2   {'셀카': 84, '맞팔': 84, '인친': 84, '소통': 84, '꿈': ...   \n6   {'그림쟁이': 137, '그림계정맞팔': 128, '그림': 178, '그림그리기...   \n\n                                                 tags      user_id  \\\n3                                            [산책, 여유]  37806496856   \n29                  [대한민국, 국방의, 폭염주의보, 남해, 힐링, 코로나19]   3494313245   \n23  [해군, 첫줄, 팔로워, 부사관, 맞팔, 선팔하면, 맞팔선팔, 맞팔해요, 소통, 대...   2204270708   \n30  [하늘, 구름, 여름, 거울셀카, 셀카놀이, 오늘, 오늘인척, 제주, 제주도, 호텔...  40274969790   \n14  [오오티디, 셀피, 골프, 골프선수, 골프스윙, 웨지샷, 운동선수, 대학생, 용인대...  11868515736   \n20                                                 []   2286824803   \n11                                                 []  23069095654   \n22                                                 []   1636081854   \n2   [셀카, 맞팔, 인친, 소통, 꿈, 자부심, 팔로우, 선팔, 데일리, 여행스타그램,...   7806334927   \n6   [그림쟁이, 그림계정맞팔, 그림, 그림그리기, 그림스타그램, 일러스트레이터, 일러스...  11109557740   \n\n       user_name     score  \n3        dong_bz -0.287682  \n29      shim9893 -0.248421  \n23  hmmmm._.1120 -0.240569  \n30   10_yoomm_04 -0.154332  \n14   _hyunii____ -0.050642  \n20       mj__j01  0.000000  \n11    leesussam_  0.000000  \n22       c.seong  0.000000  \n2      soonshin_  0.011711  \n6       kkoyu123  0.015115  ",
      "text/html": "<div>\n<style scoped>\n    .dataframe tbody tr th:only-of-type {\n        vertical-align: middle;\n    }\n\n    .dataframe tbody tr th {\n        vertical-align: top;\n    }\n\n    .dataframe thead th {\n        text-align: right;\n    }\n</style>\n<table border=\"1\" class=\"dataframe\">\n  <thead>\n    <tr style=\"text-align: right;\">\n      <th></th>\n      <th>freq</th>\n      <th>tags</th>\n      <th>user_id</th>\n      <th>user_name</th>\n      <th>score</th>\n    </tr>\n  </thead>\n  <tbody>\n    <tr>\n      <th>3</th>\n      <td>{'산책': 1, '여유': 1}</td>\n      <td>[산책, 여유]</td>\n      <td>37806496856</td>\n      <td>dong_bz</td>\n      <td>-0.287682</td>\n    </tr>\n    <tr>\n      <th>29</th>\n      <td>{'대한민국': 1, '국방의': 1, '폭염주의보': 1, '남해': 1, '힐링...</td>\n      <td>[대한민국, 국방의, 폭염주의보, 남해, 힐링, 코로나19]</td>\n      <td>3494313245</td>\n      <td>shim9893</td>\n      <td>-0.248421</td>\n    </tr>\n    <tr>\n      <th>23</th>\n      <td>{'해군': 2, '첫줄': 1, '팔로워': 1, '부사관': 1, '맞팔': 2...</td>\n      <td>[해군, 첫줄, 팔로워, 부사관, 맞팔, 선팔하면, 맞팔선팔, 맞팔해요, 소통, 대...</td>\n      <td>2204270708</td>\n      <td>hmmmm._.1120</td>\n      <td>-0.240569</td>\n    </tr>\n    <tr>\n      <th>30</th>\n      <td>{'하늘': 1, '구름': 1, '여름': 1, '거울셀카': 1, '셀카놀이':...</td>\n      <td>[하늘, 구름, 여름, 거울셀카, 셀카놀이, 오늘, 오늘인척, 제주, 제주도, 호텔...</td>\n      <td>40274969790</td>\n      <td>10_yoomm_04</td>\n      <td>-0.154332</td>\n    </tr>\n    <tr>\n      <th>14</th>\n      <td>{'오오티디': 2, '셀피': 7, '골프': 3, '골프선수': 6, '골프스윙...</td>\n      <td>[오오티디, 셀피, 골프, 골프선수, 골프스윙, 웨지샷, 운동선수, 대학생, 용인대...</td>\n      <td>11868515736</td>\n      <td>_hyunii____</td>\n      <td>-0.050642</td>\n    </tr>\n    <tr>\n      <th>20</th>\n      <td>{}</td>\n      <td>[]</td>\n      <td>2286824803</td>\n      <td>mj__j01</td>\n      <td>0.000000</td>\n    </tr>\n    <tr>\n      <th>11</th>\n      <td>{}</td>\n      <td>[]</td>\n      <td>23069095654</td>\n      <td>leesussam_</td>\n      <td>0.000000</td>\n    </tr>\n    <tr>\n      <th>22</th>\n      <td>{}</td>\n      <td>[]</td>\n      <td>1636081854</td>\n      <td>c.seong</td>\n      <td>0.000000</td>\n    </tr>\n    <tr>\n      <th>2</th>\n      <td>{'셀카': 84, '맞팔': 84, '인친': 84, '소통': 84, '꿈': ...</td>\n      <td>[셀카, 맞팔, 인친, 소통, 꿈, 자부심, 팔로우, 선팔, 데일리, 여행스타그램,...</td>\n      <td>7806334927</td>\n      <td>soonshin_</td>\n      <td>0.011711</td>\n    </tr>\n    <tr>\n      <th>6</th>\n      <td>{'그림쟁이': 137, '그림계정맞팔': 128, '그림': 178, '그림그리기...</td>\n      <td>[그림쟁이, 그림계정맞팔, 그림, 그림그리기, 그림스타그램, 일러스트레이터, 일러스...</td>\n      <td>11109557740</td>\n      <td>kkoyu123</td>\n      <td>0.015115</td>\n    </tr>\n  </tbody>\n</table>\n</div>"
     },
     "metadata": {}
    },
    {
     "output_type": "stream",
     "name": "stdout",
     "text": "교사\n"
    },
    {
     "output_type": "display_data",
     "data": {
      "text/plain": "                                                 freq  \\\n24  {'여름': 1, '방학': 2, '여름방학': 2, '휴가': 2, '왜벌써': ...   \n28                                                 {}   \n8              {'기상인증': 35, '스터디플래너': 27, '공부기록': 32}   \n6   {'건물주': 2, '강릉맛집': 1, '찐': 1, '찐맛집': 1, '미친맛':...   \n27  {'공스타그램': 18, '스터디플래너': 15, '플랜비': 15, '7321':...   \n29  {'협찬': 12, '승무원팔뚝주사': 3, '톡스미': 3, '순플러스': 1, ...   \n12  {'깡보람': 5, '임보람': 4, '틱톡커': 13, '틱톡': 9, '연기':...   \n13  {'서봄': 45, '서봄어린이집': 59, '공동육아어린이집': 56, '공동육아...   \n30                                      {'선생님딸내미': 7}   \n37  {'일러스트': 21, '작품': 23, '그림': 21, '포토샵': 21, '작...   \n\n                                                 tags      user_id  \\\n24  [여름, 방학, 여름방학, 휴가, 왜벌써, 월요일, 주말, 돌아와, 공감, 글귀, ...  33938103350   \n28                                                 []  31943748504   \n8                                [기상인증, 스터디플래너, 공부기록]  34439057360   \n6   [건물주, 강릉맛집, 찐, 찐맛집, 미친맛, 이강주, 수업, 주문진, 주문진어민수산...   4776346805   \n27              [공스타그램, 스터디플래너, 플랜비, 7321, 열품타, 열공시간]  31813609498   \n29  [협찬, 승무원팔뚝주사, 톡스미, 순플러스, 순플러스민트실, 아산카페, 웜싸이트, ...   1446887286   \n12  [깡보람, 임보람, 틱톡커, 틱톡, 연기, 인스타그램, 셀스타그램, 맞팔, 선팔, ...   1815428234   \n13  [서봄, 서봄어린이집, 공동육아어린이집, 공동육아현장, 공동육아, 협동조합어린이집,...   7145448194   \n30                                           [선생님딸내미]  40034827235   \n37  [일러스트, 작품, 그림, 포토샵, 작업, 로고, 디자인, 로고디자인, 브랜드로고,...   7862422845   \n\n                  user_name     score  \n24             maru_story87 -0.088658  \n28                kkang.aji  0.000000  \n8       youknowjeonghyun___  0.008627  \n6             2030developer  0.010509  \n27              s2.00000.s2  0.015017  \n29                 som__bly  0.015908  \n12           forvision77_br  0.030777  \n13  seobom_we_grow_together  0.057021  \n30       teachers__daughter  0.057924  \n37                 jyh_0320  0.063904  ",
      "text/html": "<div>\n<style scoped>\n    .dataframe tbody tr th:only-of-type {\n        vertical-align: middle;\n    }\n\n    .dataframe tbody tr th {\n        vertical-align: top;\n    }\n\n    .dataframe thead th {\n        text-align: right;\n    }\n</style>\n<table border=\"1\" class=\"dataframe\">\n  <thead>\n    <tr style=\"text-align: right;\">\n      <th></th>\n      <th>freq</th>\n      <th>tags</th>\n      <th>user_id</th>\n      <th>user_name</th>\n      <th>score</th>\n    </tr>\n  </thead>\n  <tbody>\n    <tr>\n      <th>24</th>\n      <td>{'여름': 1, '방학': 2, '여름방학': 2, '휴가': 2, '왜벌써': ...</td>\n      <td>[여름, 방학, 여름방학, 휴가, 왜벌써, 월요일, 주말, 돌아와, 공감, 글귀, ...</td>\n      <td>33938103350</td>\n      <td>maru_story87</td>\n      <td>-0.088658</td>\n    </tr>\n    <tr>\n      <th>28</th>\n      <td>{}</td>\n      <td>[]</td>\n      <td>31943748504</td>\n      <td>kkang.aji</td>\n      <td>0.000000</td>\n    </tr>\n    <tr>\n      <th>8</th>\n      <td>{'기상인증': 35, '스터디플래너': 27, '공부기록': 32}</td>\n      <td>[기상인증, 스터디플래너, 공부기록]</td>\n      <td>34439057360</td>\n      <td>youknowjeonghyun___</td>\n      <td>0.008627</td>\n    </tr>\n    <tr>\n      <th>6</th>\n      <td>{'건물주': 2, '강릉맛집': 1, '찐': 1, '찐맛집': 1, '미친맛':...</td>\n      <td>[건물주, 강릉맛집, 찐, 찐맛집, 미친맛, 이강주, 수업, 주문진, 주문진어민수산...</td>\n      <td>4776346805</td>\n      <td>2030developer</td>\n      <td>0.010509</td>\n    </tr>\n    <tr>\n      <th>27</th>\n      <td>{'공스타그램': 18, '스터디플래너': 15, '플랜비': 15, '7321':...</td>\n      <td>[공스타그램, 스터디플래너, 플랜비, 7321, 열품타, 열공시간]</td>\n      <td>31813609498</td>\n      <td>s2.00000.s2</td>\n      <td>0.015017</td>\n    </tr>\n    <tr>\n      <th>29</th>\n      <td>{'협찬': 12, '승무원팔뚝주사': 3, '톡스미': 3, '순플러스': 1, ...</td>\n      <td>[협찬, 승무원팔뚝주사, 톡스미, 순플러스, 순플러스민트실, 아산카페, 웜싸이트, ...</td>\n      <td>1446887286</td>\n      <td>som__bly</td>\n      <td>0.015908</td>\n    </tr>\n    <tr>\n      <th>12</th>\n      <td>{'깡보람': 5, '임보람': 4, '틱톡커': 13, '틱톡': 9, '연기':...</td>\n      <td>[깡보람, 임보람, 틱톡커, 틱톡, 연기, 인스타그램, 셀스타그램, 맞팔, 선팔, ...</td>\n      <td>1815428234</td>\n      <td>forvision77_br</td>\n      <td>0.030777</td>\n    </tr>\n    <tr>\n      <th>13</th>\n      <td>{'서봄': 45, '서봄어린이집': 59, '공동육아어린이집': 56, '공동육아...</td>\n      <td>[서봄, 서봄어린이집, 공동육아어린이집, 공동육아현장, 공동육아, 협동조합어린이집,...</td>\n      <td>7145448194</td>\n      <td>seobom_we_grow_together</td>\n      <td>0.057021</td>\n    </tr>\n    <tr>\n      <th>30</th>\n      <td>{'선생님딸내미': 7}</td>\n      <td>[선생님딸내미]</td>\n      <td>40034827235</td>\n      <td>teachers__daughter</td>\n      <td>0.057924</td>\n    </tr>\n    <tr>\n      <th>37</th>\n      <td>{'일러스트': 21, '작품': 23, '그림': 21, '포토샵': 21, '작...</td>\n      <td>[일러스트, 작품, 그림, 포토샵, 작업, 로고, 디자인, 로고디자인, 브랜드로고,...</td>\n      <td>7862422845</td>\n      <td>jyh_0320</td>\n      <td>0.063904</td>\n    </tr>\n  </tbody>\n</table>\n</div>"
     },
     "metadata": {}
    },
    {
     "output_type": "stream",
     "name": "stdout",
     "text": "중2\n"
    },
    {
     "output_type": "display_data",
     "data": {
      "text/plain": "                                                 freq  \\\n16  {'뚱뚱한마카롱': 1, '좋아요반사': 11, '인스타푸드': 1, '베프': 2...   \n2                                                  {}   \n30                                                 {}   \n26                                                 {}   \n33                                                 {}   \n24  {'모트트레인9월1일차': 1, '공스타그램': 86, '공스타': 85, '15살...   \n14  {'공스타': 26, '공부스타그램': 26, '공스타그램': 26, '공스타그램맞...   \n21  {'외대부고캠프': 21, '용인외고캠프': 5, '외대부고': 21, '용인외고'...   \n3   {'열공': 38, '인스': 4, '엉망진창': 1, '실수때매': 1, '망함'...   \n32  {'06': 30, '추억팔이': 2, '단발안해': 1, '장발할래': 1, '선...   \n\n                                                 tags      user_id  \\\n16  [뚱뚱한마카롱, 좋아요반사, 인스타푸드, 베프, 19, 17, 패션, 아웃핏, 오오...   1314775199   \n2                                                  []  15470222343   \n30                                                 []  40473986414   \n26                                                 []   8506987194   \n33                                                 []  11853499656   \n24  [모트트레인9월1일차, 공스타그램, 공스타, 15살, 중2공스타그램, 중3공스타그램...  34164285683   \n14  [공스타, 공부스타그램, 공스타그램, 공스타그램맞팔, 플래너, 공부자극, 공스타만맞...  33416104506   \n21  [외대부고캠프, 용인외고캠프, 외대부고, 용인외고, 외대부고기숙캠프, 외대부고영어캠...   5375673573   \n3   [열공, 인스, 엉망진창, 실수때매, 망함, 공부, 공스타그램, 초6, 예비중, 중...  25539217889   \n32  [06, 추억팔이, 단발안해, 장발할래, 선팔하면맞팔, 장발, 머리기르자, 06년생...   9488010942   \n\n        user_name     score  \n16       cocoro26 -0.008471  \n2   shinchaehee06  0.000000  \n30   euphori_a__7  0.000000  \n26   gahyeon11206  0.000000  \n33        3501_oy  0.000000  \n24   medico_haeun  0.012251  \n14       092binnn  0.033794  \n21       hafscamp  0.039908  \n3    yeowon_study  0.041169  \n32     k_yuwon_06  0.052070  ",
      "text/html": "<div>\n<style scoped>\n    .dataframe tbody tr th:only-of-type {\n        vertical-align: middle;\n    }\n\n    .dataframe tbody tr th {\n        vertical-align: top;\n    }\n\n    .dataframe thead th {\n        text-align: right;\n    }\n</style>\n<table border=\"1\" class=\"dataframe\">\n  <thead>\n    <tr style=\"text-align: right;\">\n      <th></th>\n      <th>freq</th>\n      <th>tags</th>\n      <th>user_id</th>\n      <th>user_name</th>\n      <th>score</th>\n    </tr>\n  </thead>\n  <tbody>\n    <tr>\n      <th>16</th>\n      <td>{'뚱뚱한마카롱': 1, '좋아요반사': 11, '인스타푸드': 1, '베프': 2...</td>\n      <td>[뚱뚱한마카롱, 좋아요반사, 인스타푸드, 베프, 19, 17, 패션, 아웃핏, 오오...</td>\n      <td>1314775199</td>\n      <td>cocoro26</td>\n      <td>-0.008471</td>\n    </tr>\n    <tr>\n      <th>2</th>\n      <td>{}</td>\n      <td>[]</td>\n      <td>15470222343</td>\n      <td>shinchaehee06</td>\n      <td>0.000000</td>\n    </tr>\n    <tr>\n      <th>30</th>\n      <td>{}</td>\n      <td>[]</td>\n      <td>40473986414</td>\n      <td>euphori_a__7</td>\n      <td>0.000000</td>\n    </tr>\n    <tr>\n      <th>26</th>\n      <td>{}</td>\n      <td>[]</td>\n      <td>8506987194</td>\n      <td>gahyeon11206</td>\n      <td>0.000000</td>\n    </tr>\n    <tr>\n      <th>33</th>\n      <td>{}</td>\n      <td>[]</td>\n      <td>11853499656</td>\n      <td>3501_oy</td>\n      <td>0.000000</td>\n    </tr>\n    <tr>\n      <th>24</th>\n      <td>{'모트트레인9월1일차': 1, '공스타그램': 86, '공스타': 85, '15살...</td>\n      <td>[모트트레인9월1일차, 공스타그램, 공스타, 15살, 중2공스타그램, 중3공스타그램...</td>\n      <td>34164285683</td>\n      <td>medico_haeun</td>\n      <td>0.012251</td>\n    </tr>\n    <tr>\n      <th>14</th>\n      <td>{'공스타': 26, '공부스타그램': 26, '공스타그램': 26, '공스타그램맞...</td>\n      <td>[공스타, 공부스타그램, 공스타그램, 공스타그램맞팔, 플래너, 공부자극, 공스타만맞...</td>\n      <td>33416104506</td>\n      <td>092binnn</td>\n      <td>0.033794</td>\n    </tr>\n    <tr>\n      <th>21</th>\n      <td>{'외대부고캠프': 21, '용인외고캠프': 5, '외대부고': 21, '용인외고'...</td>\n      <td>[외대부고캠프, 용인외고캠프, 외대부고, 용인외고, 외대부고기숙캠프, 외대부고영어캠...</td>\n      <td>5375673573</td>\n      <td>hafscamp</td>\n      <td>0.039908</td>\n    </tr>\n    <tr>\n      <th>3</th>\n      <td>{'열공': 38, '인스': 4, '엉망진창': 1, '실수때매': 1, '망함'...</td>\n      <td>[열공, 인스, 엉망진창, 실수때매, 망함, 공부, 공스타그램, 초6, 예비중, 중...</td>\n      <td>25539217889</td>\n      <td>yeowon_study</td>\n      <td>0.041169</td>\n    </tr>\n    <tr>\n      <th>32</th>\n      <td>{'06': 30, '추억팔이': 2, '단발안해': 1, '장발할래': 1, '선...</td>\n      <td>[06, 추억팔이, 단발안해, 장발할래, 선팔하면맞팔, 장발, 머리기르자, 06년생...</td>\n      <td>9488010942</td>\n      <td>k_yuwon_06</td>\n      <td>0.052070</td>\n    </tr>\n  </tbody>\n</table>\n</div>"
     },
     "metadata": {}
    }
   ],
   "source": [
    "print('군인')\n",
    "display(df0.sort_values(by='score', ascending=True).head(10))\n",
    "print('교사')\n",
    "display(df1.sort_values(by='score', ascending=True).head(10))\n",
    "print('중2')\n",
    "display(df2.sort_values(by='score', ascending=True).head(10))"
   ]
  },
  {
   "cell_type": "markdown",
   "metadata": {},
   "source": [
    "# Class\n",
    "실제 데이터 적용"
   ]
  },
  {
   "cell_type": "code",
   "execution_count": 39,
   "metadata": {},
   "outputs": [],
   "source": [
    "import pandas as pd\n",
    "import numpy as np\n",
    "from collections import Counter\n",
    "\n",
    "class UserFiltering:\n",
    "    def __init__(self, hashtags, N_category, df):\n",
    "        self.hashtags = hashtags\n",
    "        self.N_category = N_category\n",
    "        self.df = df\n",
    "\n",
    "    def del_tags(self, tags, hashtag):\n",
    "        lst = []\n",
    "        for tag in tags:\n",
    "            if tag not in hashtag:\n",
    "                lst.append(tag)\n",
    "        return lst\n",
    "\n",
    "    def del_freq(self, freq, hashtag):\n",
    "        dic = {}\n",
    "        for (w, i) in freq.items():\n",
    "            if w not in hashtag:\n",
    "                dic[w] = i\n",
    "        return dic\n",
    "\n",
    "    def del_hashtag(self, num_df, hashtag):\n",
    "        df = self.df[num_df]\n",
    "        tags = df.tags.apply(lambda x: self.del_tags(x, hashtag))\n",
    "        freq = df.freq.apply(lambda x: self.del_freq(x, hashtag))\n",
    "        df['tags'] = tags\n",
    "        df['freq'] = freq\n",
    "        return df\n",
    "    \n",
    "    # 1) 검색 해시태그 제거\n",
    "    def delete_hashtag(self):\n",
    "        df = [0 for i in range(self.N_category)]\n",
    "        for i in range(self.N_category):\n",
    "            df[i] = self.del_hashtag(i, self.hashtags[i])\n",
    "        return df\n",
    "\n",
    "    def filtering(self, N): # N: 각 직업을 대표하는 voca에서 상위 몇 개를 뽑아낼지\n",
    "        df = self.delete_hashtag()\n",
    "\n",
    "        # 2) unique tags의 빈도수\n",
    "        freq_whole = [0 for i in range(self.N_category)]\n",
    "        for i in range(self.N_category):\n",
    "            tmp = []\n",
    "            for t in df[i].tags:\n",
    "                tmp.extend(t)\n",
    "            freq_whole[i] = Counter(tmp)\n",
    "\n",
    "        # 3) 단어의 등장 문서수가 직업군의 절반을 넘을 경우, 해당 단어를 제거한 새로운 voca dictionary 생성\n",
    "        voca = [0 for i in range(self.N_category)]\n",
    "        freq_other = [0 for i in range(self.N_category)]\n",
    "        for i in range(self.N_category):\n",
    "            voca[i] = {}\n",
    "            freq_other[i] = {}\n",
    "\n",
    "        for num in range(self.N_category):\n",
    "            for (w, n) in freq_whole[num].items():\n",
    "                w_freq = 1\n",
    "                for i in range(self.N_category):\n",
    "                    if i != num:\n",
    "                        if w in freq_whole[i]:\n",
    "                            w_freq += 1\n",
    "                freq_other[num][w] = w_freq\n",
    "                if w_freq <= self.N_category//2:\n",
    "                    voca[num][w] = n\n",
    "        \n",
    "        voca_top = [0 for i in range(self.N_category)]\n",
    "        for i in range(self.N_category):\n",
    "            voca_top[i] = dict(Counter(voca[i]).most_common(N))\n",
    "\n",
    "        # 4) negative dictionary 생성: 타 직업군을 대표하는 단어\n",
    "        neg = [0 for i in range(self.N_category)]\n",
    "        for i in range(self.N_category):\n",
    "            neg[i] = Counter()\n",
    "\n",
    "        for i in range(self.N_category):\n",
    "            for j in range(self.N_category):\n",
    "                if j != i:\n",
    "                    neg[i] += Counter(voca_top[j])\n",
    "\n",
    "        # 5) negative voca에 변형된 sigmoid 적용: neg voca에 많이 등장할수록 중요도를 낮춤\n",
    "        for i in range(self.N_category):\n",
    "            n_job = len(df[i])\n",
    "            for j, tag in enumerate(self.hashtags):\n",
    "                if j != i:\n",
    "                    for t in tag:\n",
    "                        neg[i][t] = n_job\n",
    "        \n",
    "        neg_sig = [0 for i in range(self.N_category)]\n",
    "        for i in range(self.N_category):\n",
    "            neg_sig[i] = {}\n",
    "\n",
    "        for i in range(self.N_category):\n",
    "            nega = neg[i]\n",
    "            point = nega.most_common(N)[N//2][1] # sigmoid 변곡점: neg 상위 N개의 중위값에 해당하는 빈도수\n",
    "            for (w, n) in nega.items():\n",
    "                neg_sig[i][w] = 1 / (1 + np.exp(n) - point)\n",
    "\n",
    "        # 6) scoring: score = 평균(해시태그 사용 빈도수 x tf-idf x neg_sig)\n",
    "        for i in range(self.N_category):\n",
    "            df[i]['score'] = 0\n",
    "\n",
    "        tf_idf = [0 for i in range(self.N_category)]\n",
    "        for i in range(self.N_category):\n",
    "            tf_idf[i] = {}\n",
    "            for (w, n) in freq_whole[i].items():\n",
    "                tf = n\n",
    "                idf = np.log( self.N_category / (1 + freq_other[i][w]) )\n",
    "                tf_idf[i][w] = tf * idf\n",
    "        \n",
    "        def scoring(freq_row, num_df):\n",
    "            score = 0\n",
    "            N_tags = sum(freq_row.values())\n",
    "            ti = tf_idf[num_df]\n",
    "\n",
    "            for (w, n) in freq_row.items():\n",
    "                tf_idf_score = ti[w]\n",
    "                try:\n",
    "                    nega = neg_sig[num_df][w]\n",
    "                except:\n",
    "                    nega = 1\n",
    "                score += tf_idf_score * nega / N_tags\n",
    "            \n",
    "            return score\n",
    "\n",
    "        for i in range(self.N_category-2): # 주부, 백수 제외\n",
    "            df[i]['score'] = df[i]['freq'].apply(lambda x: scoring(x, i))\n",
    "\n",
    "        return df, voca_top"
   ]
  },
  {
   "cell_type": "code",
   "execution_count": 36,
   "metadata": {},
   "outputs": [],
   "source": [
    "N_category=9\n",
    "hashtags = [\n",
    "    [\"간호사\", \"나이팅게일선서식\", \"널스타그램\", \"응급실간호사\", \"간호사그램\"],\n",
    "    [\"경찰\", \"경찰스타그램\", \"중앙경찰학교\"],\n",
    "    [\"교사\", \"교사스타그램\", \"쌤스타그램\"],\n",
    "    [\"군인\", \"군스타그램\", \"군인스타그램\"],\n",
    "    [\"소방관\", \"소방공무원\", \"소방스타그램\"],\n",
    "    [\"의사\", \"의사스타그램\"],\n",
    "    [\"고1\", \"고2\", \"고3\", \"중1\", \"중2\", \"중3\"],\n",
    "    [\"딸맘그램\"],\n",
    "    [\"백수\"]\n",
    "]\n",
    "\n",
    "path = 'C:/Users/bogyung/Downloads/crawling/test/'\n",
    "df = [0 for i in range(N_category)]\n",
    "\n",
    "uf = UserFiltering(hashtags=hashtags, N_category=3, df=df)"
   ]
  }
 ]
}