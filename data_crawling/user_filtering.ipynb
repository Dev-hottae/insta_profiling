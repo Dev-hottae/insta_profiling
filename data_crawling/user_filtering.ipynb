{
 "metadata": {
  "language_info": {
   "codemirror_mode": {
    "name": "ipython",
    "version": 3
   },
   "file_extension": ".py",
   "mimetype": "text/x-python",
   "name": "python",
   "nbconvert_exporter": "python",
   "pygments_lexer": "ipython3",
   "version": "3.6.5-final"
  },
  "orig_nbformat": 2,
  "kernelspec": {
   "name": "python_defaultSpec_1598971172117",
   "display_name": "Python 3.6.5 64-bit ('base': conda)"
  }
 },
 "nbformat": 4,
 "nbformat_minor": 2,
 "cells": [
  {
   "cell_type": "markdown",
   "metadata": {},
   "source": [
    "# User filtering\n",
    "특정 직업과 관련된 해시태그 검색 후, 해당 직업이 아닌 유저를 필터링하는 과정이 필요하다."
   ]
  },
  {
   "cell_type": "code",
   "execution_count": 1,
   "metadata": {},
   "outputs": [],
   "source": [
    "import pandas as pd\n",
    "import numpy as np\n",
    "from collections import Counter"
   ]
  },
  {
   "cell_type": "code",
   "execution_count": 6,
   "metadata": {},
   "outputs": [],
   "source": [
    "# 예제 데이터\n",
    "path = 'C:/Users/bogyung/Downloads/crawling/test/'\n",
    "df0 = pd.read_json(path + 'tags_goonin.json')\n",
    "df1 = pd.read_json(path + 'tags_gyosa.json')\n",
    "df2 = pd.read_json(path + 'tags_joong2.json')"
   ]
  },
  {
   "cell_type": "code",
   "execution_count": 12,
   "metadata": {
    "tags": []
   },
   "outputs": [
    {
     "output_type": "stream",
     "name": "stdout",
     "text": "제거 전: 군인\n"
    },
    {
     "output_type": "display_data",
     "data": {
      "text/plain": "                                                freq  \\\n0                                 {'23': 1, '24': 1}   \n1  {'25': 5, '천안': 4, '22': 1, '군대': 1, '선임': 1, ...   \n2  {'셀카': 84, '맞팔': 84, '인친': 84, '소통': 84, '꿈': ...   \n3                                 {'산책': 1, '여유': 1}   \n4  {'여기조기요기': 1, '굿모닝': 1, '나온다나온다나이나온다': 1, '유노앤...   \n\n                                                tags      user_id  \\\n0                                           [23, 24]  24895167311   \n1  [25, 천안, 22, 군대, 선임, 후임, 남자랑, 데이트, 운동, 웨이트, 군인...   4648813963   \n2  [셀카, 맞팔, 인친, 소통, 꿈, 자부심, 팔로우, 선팔, 데일리, 여행스타그램,...   7806334927   \n3                                           [산책, 여유]  37806496856   \n4  [여기조기요기, 굿모닝, 나온다나온다나이나온다, 유노앤드요, 컴백, 웃음욕심, 노력...   5641751675   \n\n       user_name  \n0  hye_lim._.eee  \n1         96_ugi  \n2      soonshin_  \n3        dong_bz  \n4       _andyon_  ",
      "text/html": "<div>\n<style scoped>\n    .dataframe tbody tr th:only-of-type {\n        vertical-align: middle;\n    }\n\n    .dataframe tbody tr th {\n        vertical-align: top;\n    }\n\n    .dataframe thead th {\n        text-align: right;\n    }\n</style>\n<table border=\"1\" class=\"dataframe\">\n  <thead>\n    <tr style=\"text-align: right;\">\n      <th></th>\n      <th>freq</th>\n      <th>tags</th>\n      <th>user_id</th>\n      <th>user_name</th>\n    </tr>\n  </thead>\n  <tbody>\n    <tr>\n      <th>0</th>\n      <td>{'23': 1, '24': 1}</td>\n      <td>[23, 24]</td>\n      <td>24895167311</td>\n      <td>hye_lim._.eee</td>\n    </tr>\n    <tr>\n      <th>1</th>\n      <td>{'25': 5, '천안': 4, '22': 1, '군대': 1, '선임': 1, ...</td>\n      <td>[25, 천안, 22, 군대, 선임, 후임, 남자랑, 데이트, 운동, 웨이트, 군인...</td>\n      <td>4648813963</td>\n      <td>96_ugi</td>\n    </tr>\n    <tr>\n      <th>2</th>\n      <td>{'셀카': 84, '맞팔': 84, '인친': 84, '소통': 84, '꿈': ...</td>\n      <td>[셀카, 맞팔, 인친, 소통, 꿈, 자부심, 팔로우, 선팔, 데일리, 여행스타그램,...</td>\n      <td>7806334927</td>\n      <td>soonshin_</td>\n    </tr>\n    <tr>\n      <th>3</th>\n      <td>{'산책': 1, '여유': 1}</td>\n      <td>[산책, 여유]</td>\n      <td>37806496856</td>\n      <td>dong_bz</td>\n    </tr>\n    <tr>\n      <th>4</th>\n      <td>{'여기조기요기': 1, '굿모닝': 1, '나온다나온다나이나온다': 1, '유노앤...</td>\n      <td>[여기조기요기, 굿모닝, 나온다나온다나이나온다, 유노앤드요, 컴백, 웃음욕심, 노력...</td>\n      <td>5641751675</td>\n      <td>_andyon_</td>\n    </tr>\n  </tbody>\n</table>\n</div>"
     },
     "metadata": {}
    },
    {
     "output_type": "stream",
     "name": "stdout",
     "text": "제거 전: 교사\n"
    },
    {
     "output_type": "display_data",
     "data": {
      "text/plain": "                                                freq  \\\n0                                          {'범계': 1}   \n1  {'쌤스타그램': 21, '교사스타그램': 23, '교사': 19, '선생님': 2...   \n2  {'25': 24, '쌩얼인거비밀': 1, '25살': 21, '일상': 32, '...   \n3  {'대구교총': 10, '교총': 6, '한국교총': 10, '이벤트': 2, '선...   \n4  {'제주대학교': 12, '수시모집요강': 1, '제주대학교2021학년도수시모집요강...   \n\n                                                tags      user_id  \\\n0                                               [범계]  30033400542   \n1  [쌤스타그램, 교사스타그램, 교사, 선생님, 선생님스타그램, 중학교, 노보텔앰배서더...   3033063913   \n2  [25, 쌩얼인거비밀, 25살, 일상, 코로나19, 마스크필수, 어린이집, 출근, ...   2241028185   \n3  [대구교총, 교총, 한국교총, 이벤트, 선생님, 교사, 교수, 유치원선생님, 쌤스타...   5571560038   \n4  [제주대학교, 수시모집요강, 제주대학교2021학년도수시모집요강, 전형일정, 모집단위...   5863131290   \n\n      user_name  \n0       d_jshin  \n1  iam_minthyun  \n2       90lka11  \n3  cheerup_2680  \n4   jejunu_ibsi  ",
      "text/html": "<div>\n<style scoped>\n    .dataframe tbody tr th:only-of-type {\n        vertical-align: middle;\n    }\n\n    .dataframe tbody tr th {\n        vertical-align: top;\n    }\n\n    .dataframe thead th {\n        text-align: right;\n    }\n</style>\n<table border=\"1\" class=\"dataframe\">\n  <thead>\n    <tr style=\"text-align: right;\">\n      <th></th>\n      <th>freq</th>\n      <th>tags</th>\n      <th>user_id</th>\n      <th>user_name</th>\n    </tr>\n  </thead>\n  <tbody>\n    <tr>\n      <th>0</th>\n      <td>{'범계': 1}</td>\n      <td>[범계]</td>\n      <td>30033400542</td>\n      <td>d_jshin</td>\n    </tr>\n    <tr>\n      <th>1</th>\n      <td>{'쌤스타그램': 21, '교사스타그램': 23, '교사': 19, '선생님': 2...</td>\n      <td>[쌤스타그램, 교사스타그램, 교사, 선생님, 선생님스타그램, 중학교, 노보텔앰배서더...</td>\n      <td>3033063913</td>\n      <td>iam_minthyun</td>\n    </tr>\n    <tr>\n      <th>2</th>\n      <td>{'25': 24, '쌩얼인거비밀': 1, '25살': 21, '일상': 32, '...</td>\n      <td>[25, 쌩얼인거비밀, 25살, 일상, 코로나19, 마스크필수, 어린이집, 출근, ...</td>\n      <td>2241028185</td>\n      <td>90lka11</td>\n    </tr>\n    <tr>\n      <th>3</th>\n      <td>{'대구교총': 10, '교총': 6, '한국교총': 10, '이벤트': 2, '선...</td>\n      <td>[대구교총, 교총, 한국교총, 이벤트, 선생님, 교사, 교수, 유치원선생님, 쌤스타...</td>\n      <td>5571560038</td>\n      <td>cheerup_2680</td>\n    </tr>\n    <tr>\n      <th>4</th>\n      <td>{'제주대학교': 12, '수시모집요강': 1, '제주대학교2021학년도수시모집요강...</td>\n      <td>[제주대학교, 수시모집요강, 제주대학교2021학년도수시모집요강, 전형일정, 모집단위...</td>\n      <td>5863131290</td>\n      <td>jejunu_ibsi</td>\n    </tr>\n  </tbody>\n</table>\n</div>"
     },
     "metadata": {}
    },
    {
     "output_type": "stream",
     "name": "stdout",
     "text": "제거 전: 중학생\n"
    },
    {
     "output_type": "display_data",
     "data": {
      "text/plain": "                                                freq  \\\n0  {'모트트레인9월1일차': 1, '모트트레인': 1, '고려대학교': 2, '공스타...   \n1        {'칼단발': 1, '단발': 1, '집콕중': 1, '놀러가고싶어요': 1}   \n2                                                 {}   \n3  {'열공': 38, '인스': 4, '엉망진창': 1, '실수때매': 1, '망함'...   \n4  {'06': 20, '0606': 9, '공부인증그램': 2, '공부인증': 5, ...   \n\n                                                tags      user_id  \\\n0                  [모트트레인9월1일차, 모트트레인, 고려대학교, 공스타소통]  40090360824   \n1                            [칼단발, 단발, 집콕중, 놀러가고싶어요]   9632681759   \n2                                                 []  15470222343   \n3  [열공, 인스, 엉망진창, 실수때매, 망함, 공부, 공스타그램, 초6, 예비중, 중...  25539217889   \n4  [06, 0606, 공부인증그램, 공부인증, 공부인증샷, 공부인증계정, 공스타그램,...  27400344693   \n\n       user_name  \n0     t.memory_0  \n1    hye0njiye0n  \n2  shinchaehee06  \n3   yeowon_study  \n4  _medic.__.kim  ",
      "text/html": "<div>\n<style scoped>\n    .dataframe tbody tr th:only-of-type {\n        vertical-align: middle;\n    }\n\n    .dataframe tbody tr th {\n        vertical-align: top;\n    }\n\n    .dataframe thead th {\n        text-align: right;\n    }\n</style>\n<table border=\"1\" class=\"dataframe\">\n  <thead>\n    <tr style=\"text-align: right;\">\n      <th></th>\n      <th>freq</th>\n      <th>tags</th>\n      <th>user_id</th>\n      <th>user_name</th>\n    </tr>\n  </thead>\n  <tbody>\n    <tr>\n      <th>0</th>\n      <td>{'모트트레인9월1일차': 1, '모트트레인': 1, '고려대학교': 2, '공스타...</td>\n      <td>[모트트레인9월1일차, 모트트레인, 고려대학교, 공스타소통]</td>\n      <td>40090360824</td>\n      <td>t.memory_0</td>\n    </tr>\n    <tr>\n      <th>1</th>\n      <td>{'칼단발': 1, '단발': 1, '집콕중': 1, '놀러가고싶어요': 1}</td>\n      <td>[칼단발, 단발, 집콕중, 놀러가고싶어요]</td>\n      <td>9632681759</td>\n      <td>hye0njiye0n</td>\n    </tr>\n    <tr>\n      <th>2</th>\n      <td>{}</td>\n      <td>[]</td>\n      <td>15470222343</td>\n      <td>shinchaehee06</td>\n    </tr>\n    <tr>\n      <th>3</th>\n      <td>{'열공': 38, '인스': 4, '엉망진창': 1, '실수때매': 1, '망함'...</td>\n      <td>[열공, 인스, 엉망진창, 실수때매, 망함, 공부, 공스타그램, 초6, 예비중, 중...</td>\n      <td>25539217889</td>\n      <td>yeowon_study</td>\n    </tr>\n    <tr>\n      <th>4</th>\n      <td>{'06': 20, '0606': 9, '공부인증그램': 2, '공부인증': 5, ...</td>\n      <td>[06, 0606, 공부인증그램, 공부인증, 공부인증샷, 공부인증계정, 공스타그램,...</td>\n      <td>27400344693</td>\n      <td>_medic.__.kim</td>\n    </tr>\n  </tbody>\n</table>\n</div>"
     },
     "metadata": {}
    }
   ],
   "source": [
    "print('제거 전: 군인')\n",
    "display(df0.head())\n",
    "print('제거 전: 교사')\n",
    "display(df1.head())\n",
    "print('제거 전: 중학생')\n",
    "display(df2.head())"
   ]
  },
  {
   "cell_type": "markdown",
   "metadata": {},
   "source": [
    "### 검색 해시태그 제거"
   ]
  },
  {
   "cell_type": "code",
   "execution_count": 14,
   "metadata": {},
   "outputs": [],
   "source": [
    "# 각 직업별 검색 해시태그(여러 개 가능)\n",
    "hashtags = [[\"군인\"], [\"교사\"], [\"중2\"]]\n",
    "N_category = 3 # 직업 카테고리 수\n",
    "\n",
    "def del_tags(tags, hashtag):\n",
    "    lst = []\n",
    "    for tag in tags:\n",
    "        if tag not in hashtag:\n",
    "            lst.append(tag)\n",
    "    return lst\n",
    "\n",
    "def del_freq(freq, hashtag):\n",
    "    dic = {}\n",
    "    for (w, i) in freq.items():\n",
    "        if w not in hashtag:\n",
    "            dic[w] = i\n",
    "    return dic\n",
    "\n",
    "def del_hashtag(num_df, hashtag):\n",
    "    df = globals()['df{}'.format(num_df)]\n",
    "    tags = df.tags.apply(lambda x: del_tags(x, hashtag))\n",
    "    freq = df.freq.apply(lambda x: del_freq(x, hashtag))\n",
    "    df['tags'] = tags\n",
    "    df['freq'] = freq\n",
    "    return df\n",
    "\n",
    "for i in range(N_category):\n",
    "    globals()['df{}'.format(i)] = del_hashtag(i, hashtags[i])"
   ]
  },
  {
   "cell_type": "code",
   "execution_count": 17,
   "metadata": {
    "tags": []
   },
   "outputs": [
    {
     "output_type": "stream",
     "name": "stdout",
     "text": "제거 후: 군인\n"
    },
    {
     "output_type": "display_data",
     "data": {
      "text/plain": "                                                freq  \\\n0                                 {'23': 1, '24': 1}   \n1  {'25': 5, '천안': 4, '22': 1, '군대': 1, '선임': 1, ...   \n2  {'셀카': 84, '맞팔': 84, '인친': 84, '소통': 84, '꿈': ...   \n3                                 {'산책': 1, '여유': 1}   \n4  {'여기조기요기': 1, '굿모닝': 1, '나온다나온다나이나온다': 1, '유노앤...   \n\n                                                tags      user_id  \\\n0                                           [23, 24]  24895167311   \n1  [25, 천안, 22, 군대, 선임, 후임, 남자랑, 데이트, 운동, 웨이트, 속초...   4648813963   \n2  [셀카, 맞팔, 인친, 소통, 꿈, 자부심, 팔로우, 선팔, 데일리, 여행스타그램,...   7806334927   \n3                                           [산책, 여유]  37806496856   \n4  [여기조기요기, 굿모닝, 나온다나온다나이나온다, 유노앤드요, 컴백, 웃음욕심, 노력...   5641751675   \n\n       user_name  \n0  hye_lim._.eee  \n1         96_ugi  \n2      soonshin_  \n3        dong_bz  \n4       _andyon_  ",
      "text/html": "<div>\n<style scoped>\n    .dataframe tbody tr th:only-of-type {\n        vertical-align: middle;\n    }\n\n    .dataframe tbody tr th {\n        vertical-align: top;\n    }\n\n    .dataframe thead th {\n        text-align: right;\n    }\n</style>\n<table border=\"1\" class=\"dataframe\">\n  <thead>\n    <tr style=\"text-align: right;\">\n      <th></th>\n      <th>freq</th>\n      <th>tags</th>\n      <th>user_id</th>\n      <th>user_name</th>\n    </tr>\n  </thead>\n  <tbody>\n    <tr>\n      <th>0</th>\n      <td>{'23': 1, '24': 1}</td>\n      <td>[23, 24]</td>\n      <td>24895167311</td>\n      <td>hye_lim._.eee</td>\n    </tr>\n    <tr>\n      <th>1</th>\n      <td>{'25': 5, '천안': 4, '22': 1, '군대': 1, '선임': 1, ...</td>\n      <td>[25, 천안, 22, 군대, 선임, 후임, 남자랑, 데이트, 운동, 웨이트, 속초...</td>\n      <td>4648813963</td>\n      <td>96_ugi</td>\n    </tr>\n    <tr>\n      <th>2</th>\n      <td>{'셀카': 84, '맞팔': 84, '인친': 84, '소통': 84, '꿈': ...</td>\n      <td>[셀카, 맞팔, 인친, 소통, 꿈, 자부심, 팔로우, 선팔, 데일리, 여행스타그램,...</td>\n      <td>7806334927</td>\n      <td>soonshin_</td>\n    </tr>\n    <tr>\n      <th>3</th>\n      <td>{'산책': 1, '여유': 1}</td>\n      <td>[산책, 여유]</td>\n      <td>37806496856</td>\n      <td>dong_bz</td>\n    </tr>\n    <tr>\n      <th>4</th>\n      <td>{'여기조기요기': 1, '굿모닝': 1, '나온다나온다나이나온다': 1, '유노앤...</td>\n      <td>[여기조기요기, 굿모닝, 나온다나온다나이나온다, 유노앤드요, 컴백, 웃음욕심, 노력...</td>\n      <td>5641751675</td>\n      <td>_andyon_</td>\n    </tr>\n  </tbody>\n</table>\n</div>"
     },
     "metadata": {}
    },
    {
     "output_type": "stream",
     "name": "stdout",
     "text": "제거 후: 교사\n"
    },
    {
     "output_type": "display_data",
     "data": {
      "text/plain": "                                                freq  \\\n0                                          {'범계': 1}   \n1  {'쌤스타그램': 21, '교사스타그램': 23, '선생님': 22, '선생님스타그...   \n2  {'25': 24, '쌩얼인거비밀': 1, '25살': 21, '일상': 32, '...   \n3  {'대구교총': 10, '교총': 6, '한국교총': 10, '이벤트': 2, '선...   \n4  {'제주대학교': 12, '수시모집요강': 1, '제주대학교2021학년도수시모집요강...   \n\n                                                tags      user_id  \\\n0                                               [범계]  30033400542   \n1  [쌤스타그램, 교사스타그램, 선생님, 선생님스타그램, 중학교, 노보텔앰배서더용산, ...   3033063913   \n2  [25, 쌩얼인거비밀, 25살, 일상, 코로나19, 마스크필수, 어린이집, 출근, ...   2241028185   \n3  [대구교총, 교총, 한국교총, 이벤트, 선생님, 교수, 유치원선생님, 쌤스타그램, ...   5571560038   \n4  [제주대학교, 수시모집요강, 제주대학교2021학년도수시모집요강, 전형일정, 모집단위...   5863131290   \n\n      user_name  \n0       d_jshin  \n1  iam_minthyun  \n2       90lka11  \n3  cheerup_2680  \n4   jejunu_ibsi  ",
      "text/html": "<div>\n<style scoped>\n    .dataframe tbody tr th:only-of-type {\n        vertical-align: middle;\n    }\n\n    .dataframe tbody tr th {\n        vertical-align: top;\n    }\n\n    .dataframe thead th {\n        text-align: right;\n    }\n</style>\n<table border=\"1\" class=\"dataframe\">\n  <thead>\n    <tr style=\"text-align: right;\">\n      <th></th>\n      <th>freq</th>\n      <th>tags</th>\n      <th>user_id</th>\n      <th>user_name</th>\n    </tr>\n  </thead>\n  <tbody>\n    <tr>\n      <th>0</th>\n      <td>{'범계': 1}</td>\n      <td>[범계]</td>\n      <td>30033400542</td>\n      <td>d_jshin</td>\n    </tr>\n    <tr>\n      <th>1</th>\n      <td>{'쌤스타그램': 21, '교사스타그램': 23, '선생님': 22, '선생님스타그...</td>\n      <td>[쌤스타그램, 교사스타그램, 선생님, 선생님스타그램, 중학교, 노보텔앰배서더용산, ...</td>\n      <td>3033063913</td>\n      <td>iam_minthyun</td>\n    </tr>\n    <tr>\n      <th>2</th>\n      <td>{'25': 24, '쌩얼인거비밀': 1, '25살': 21, '일상': 32, '...</td>\n      <td>[25, 쌩얼인거비밀, 25살, 일상, 코로나19, 마스크필수, 어린이집, 출근, ...</td>\n      <td>2241028185</td>\n      <td>90lka11</td>\n    </tr>\n    <tr>\n      <th>3</th>\n      <td>{'대구교총': 10, '교총': 6, '한국교총': 10, '이벤트': 2, '선...</td>\n      <td>[대구교총, 교총, 한국교총, 이벤트, 선생님, 교수, 유치원선생님, 쌤스타그램, ...</td>\n      <td>5571560038</td>\n      <td>cheerup_2680</td>\n    </tr>\n    <tr>\n      <th>4</th>\n      <td>{'제주대학교': 12, '수시모집요강': 1, '제주대학교2021학년도수시모집요강...</td>\n      <td>[제주대학교, 수시모집요강, 제주대학교2021학년도수시모집요강, 전형일정, 모집단위...</td>\n      <td>5863131290</td>\n      <td>jejunu_ibsi</td>\n    </tr>\n  </tbody>\n</table>\n</div>"
     },
     "metadata": {}
    },
    {
     "output_type": "stream",
     "name": "stdout",
     "text": "제거 후: 중학생\n"
    },
    {
     "output_type": "display_data",
     "data": {
      "text/plain": "                                                freq  \\\n0  {'모트트레인9월1일차': 1, '모트트레인': 1, '고려대학교': 2, '공스타...   \n1        {'칼단발': 1, '단발': 1, '집콕중': 1, '놀러가고싶어요': 1}   \n2                                                 {}   \n3  {'열공': 38, '인스': 4, '엉망진창': 1, '실수때매': 1, '망함'...   \n4  {'06': 20, '0606': 9, '공부인증그램': 2, '공부인증': 5, ...   \n\n                                                tags      user_id  \\\n0                  [모트트레인9월1일차, 모트트레인, 고려대학교, 공스타소통]  40090360824   \n1                            [칼단발, 단발, 집콕중, 놀러가고싶어요]   9632681759   \n2                                                 []  15470222343   \n3  [열공, 인스, 엉망진창, 실수때매, 망함, 공부, 공스타그램, 초6, 예비중, 중...  25539217889   \n4  [06, 0606, 공부인증그램, 공부인증, 공부인증샷, 공부인증계정, 공스타그램,...  27400344693   \n\n       user_name  \n0     t.memory_0  \n1    hye0njiye0n  \n2  shinchaehee06  \n3   yeowon_study  \n4  _medic.__.kim  ",
      "text/html": "<div>\n<style scoped>\n    .dataframe tbody tr th:only-of-type {\n        vertical-align: middle;\n    }\n\n    .dataframe tbody tr th {\n        vertical-align: top;\n    }\n\n    .dataframe thead th {\n        text-align: right;\n    }\n</style>\n<table border=\"1\" class=\"dataframe\">\n  <thead>\n    <tr style=\"text-align: right;\">\n      <th></th>\n      <th>freq</th>\n      <th>tags</th>\n      <th>user_id</th>\n      <th>user_name</th>\n    </tr>\n  </thead>\n  <tbody>\n    <tr>\n      <th>0</th>\n      <td>{'모트트레인9월1일차': 1, '모트트레인': 1, '고려대학교': 2, '공스타...</td>\n      <td>[모트트레인9월1일차, 모트트레인, 고려대학교, 공스타소통]</td>\n      <td>40090360824</td>\n      <td>t.memory_0</td>\n    </tr>\n    <tr>\n      <th>1</th>\n      <td>{'칼단발': 1, '단발': 1, '집콕중': 1, '놀러가고싶어요': 1}</td>\n      <td>[칼단발, 단발, 집콕중, 놀러가고싶어요]</td>\n      <td>9632681759</td>\n      <td>hye0njiye0n</td>\n    </tr>\n    <tr>\n      <th>2</th>\n      <td>{}</td>\n      <td>[]</td>\n      <td>15470222343</td>\n      <td>shinchaehee06</td>\n    </tr>\n    <tr>\n      <th>3</th>\n      <td>{'열공': 38, '인스': 4, '엉망진창': 1, '실수때매': 1, '망함'...</td>\n      <td>[열공, 인스, 엉망진창, 실수때매, 망함, 공부, 공스타그램, 초6, 예비중, 중...</td>\n      <td>25539217889</td>\n      <td>yeowon_study</td>\n    </tr>\n    <tr>\n      <th>4</th>\n      <td>{'06': 20, '0606': 9, '공부인증그램': 2, '공부인증': 5, ...</td>\n      <td>[06, 0606, 공부인증그램, 공부인증, 공부인증샷, 공부인증계정, 공스타그램,...</td>\n      <td>27400344693</td>\n      <td>_medic.__.kim</td>\n    </tr>\n  </tbody>\n</table>\n</div>"
     },
     "metadata": {}
    }
   ],
   "source": [
    "print('제거 후: 군인')\n",
    "display(df0.head())\n",
    "print('제거 후: 교사')\n",
    "display(df1.head())\n",
    "print('제거 후: 중학생')\n",
    "display(df2.head())"
   ]
  },
  {
   "cell_type": "markdown",
   "metadata": {},
   "source": [
    "#  -----------------------------------------------------------\n",
    "# (-) freq 수로 전체 빈도 계산\n",
    "- 문제점: 개인이 많이 올린 게시글이 많을 때, 동시에 해당 단어의 빈도가 높아짐"
   ]
  },
  {
   "cell_type": "code",
   "execution_count": 77,
   "metadata": {},
   "outputs": [],
   "source": [
    "for i in range(N_category):\n",
    "    globals()['freq_whole_{}'.format(i)] = Counter()\n",
    "    for f in globals()['df{}'.format(i)].freq:\n",
    "        globals()['freq_whole_{}'.format(i)] += Counter(f)"
   ]
  },
  {
   "cell_type": "code",
   "execution_count": 20,
   "metadata": {},
   "outputs": [],
   "source": [
    "# freq_whole_0, freq_whole_1, freq_whole_2"
   ]
  },
  {
   "cell_type": "code",
   "execution_count": 60,
   "metadata": {},
   "outputs": [
    {
     "output_type": "execute_result",
     "data": {
      "text/plain": "[('그림', 178),\n ('그림스타그램', 178),\n ('일러스트', 171),\n ('아트', 157),\n ('좋아요', 150),\n ('그림쟁이', 137),\n ('그림그리기', 134),\n ('그림계정맞팔', 128),\n ('일러스트레이션', 118),\n ('일러스트레이터', 113),\n ('장교', 103),\n ('맞팔', 98),\n ('부사관', 98),\n ('서울', 97),\n ('간호사', 97),\n ('데일리', 94),\n ('셀카', 92),\n ('소통', 91),\n ('선팔', 91),\n ('강남', 90)]"
     },
     "metadata": {},
     "execution_count": 60
    }
   ],
   "source": [
    "# 군인\n",
    "freq_whole_0.most_common(20)"
   ]
  },
  {
   "cell_type": "markdown",
   "metadata": {},
   "source": [
    "# ----------------------------------------------\n",
    "# (+) Unique Tag 수로 빈도 계산\n",
    "- 개인이 많이 올리는거 무시 가능\n",
    "- unique 수므로 일정 숫자 이하 단어는 걸러내는 과정 필요할 듯"
   ]
  },
  {
   "cell_type": "code",
   "execution_count": 80,
   "metadata": {},
   "outputs": [],
   "source": [
    "for i in range(N_category):\n",
    "    tmp = []\n",
    "    for t in globals()['df{}'.format(i)].tags:\n",
    "        tmp.extend(t)\n",
    "    globals()['freq_whole_{}'.format(i)] = Counter(tmp)"
   ]
  },
  {
   "cell_type": "code",
   "execution_count": 68,
   "metadata": {},
   "outputs": [
    {
     "output_type": "execute_result",
     "data": {
      "text/plain": "[('일상', 7),\n ('휴가', 6),\n ('맞팔', 5),\n ('서울', 5),\n ('힐링', 5),\n ('좋아요', 5),\n ('대학생', 5),\n ('강원도', 4),\n ('코로나', 4),\n ('셀카', 4)]"
     },
     "metadata": {},
     "execution_count": 68
    }
   ],
   "source": [
    "# 군인\n",
    "freq_whole_0.most_common(10)"
   ]
  },
  {
   "cell_type": "markdown",
   "metadata": {},
   "source": [
    "# ----------------------------------------"
   ]
  },
  {
   "cell_type": "markdown",
   "metadata": {},
   "source": [
    "### 새로운 voca dict 생성\n",
    "단어의 등장 문서수가 직업군의 절반을 넘을 경우, 해당 단어를 제거한 새로운 딕셔너리 생성(각 직업군에 대표성 있다고 판단)"
   ]
  },
  {
   "cell_type": "code",
   "execution_count": 81,
   "metadata": {
    "tags": []
   },
   "outputs": [],
   "source": [
    "for i in range(N_category):\n",
    "    globals()['voca{}'.format(i)] = {}\n",
    "    globals()['freq_other{}'.format(i)] = {}\n",
    "\n",
    "for num in range(N_category):\n",
    "    for (w, n) in globals()['freq_whole_{}'.format(num)].items():\n",
    "        w_freq = 1\n",
    "        for i in range(N_category):\n",
    "            if i != num:\n",
    "                if w in globals()['freq_whole_{}'.format(i)]:\n",
    "                    w_freq += 1\n",
    "        globals()['freq_other{}'.format(num)][w] = w_freq\n",
    "        if w_freq <= N_category//2:\n",
    "            globals()['voca{}'.format(num)][w] = n"
   ]
  },
  {
   "cell_type": "code",
   "execution_count": 23,
   "metadata": {},
   "outputs": [],
   "source": [
    "# 각 직업의 대표성을 띠는 단어들\n",
    "# voca0, voca1, voca2"
   ]
  },
  {
   "cell_type": "code",
   "execution_count": 25,
   "metadata": {},
   "outputs": [],
   "source": [
    "# 등장한 문서 수\n",
    "# freq_other0, freq_other1, freq_other2"
   ]
  },
  {
   "cell_type": "code",
   "execution_count": 86,
   "metadata": {},
   "outputs": [],
   "source": [
    "N = 10 # 상위 몇 개를 뽑아낼지 지정\n",
    "for i in range(N_category):\n",
    "    globals()['voca{}_top'.format(i)] = dict(Counter(globals()['voca{}'.format(i)]).most_common(N))"
   ]
  },
  {
   "cell_type": "code",
   "execution_count": 87,
   "metadata": {},
   "outputs": [
    {
     "output_type": "execute_result",
     "data": {
      "text/plain": "({'속초': 3,\n  '부사관': 3,\n  '24': 2,\n  '천안': 2,\n  '고성': 2,\n  '보내줘': 2,\n  '1943': 2,\n  '웃자': 2,\n  '난': 2,\n  '장교': 2},\n {'교사스타그램': 14,\n  '쌤스타그램': 8,\n  '원격수업': 6,\n  '학부모': 6,\n  '고등학교': 5,\n  '스타벅스': 5,\n  '어린이집': 4,\n  '힐링타임': 4,\n  '스승의날': 4,\n  '책': 4},\n {'06': 12,\n  '06년생': 11,\n  '중2공스타그램': 8,\n  '공스타그램맞팔': 7,\n  '모트모트': 6,\n  '모트모트플래너': 6,\n  '중2공스타': 5,\n  '15살': 5,\n  '공부하자': 5,\n  '중간피드': 5})"
     },
     "metadata": {},
     "execution_count": 87
    }
   ],
   "source": [
    "# 상위 N개의 voca dict\n",
    "voca0_top, voca1_top, voca2_top"
   ]
  },
  {
   "cell_type": "markdown",
   "metadata": {},
   "source": [
    "### negative dict 생성\n",
    "타 직업군의 voca를 다 더한다."
   ]
  },
  {
   "cell_type": "code",
   "execution_count": 88,
   "metadata": {},
   "outputs": [],
   "source": [
    "for i in range(N_category):\n",
    "    globals()['neg{}'.format(i)] = Counter()\n",
    "\n",
    "for i in range(N_category):\n",
    "    for j in range(N_category):\n",
    "        if j != i:\n",
    "            globals()['neg{}'.format(i)] += Counter(globals()['voca{}_top'.format(j)])"
   ]
  },
  {
   "cell_type": "code",
   "execution_count": 90,
   "metadata": {},
   "outputs": [],
   "source": [
    "# 타 직업군에서의 단어 목록\n",
    "# neg0, neg1, neg2"
   ]
  },
  {
   "cell_type": "markdown",
   "metadata": {},
   "source": [
    "## neg voca에 많이 등장할수록 중요도를 낮추는 방법 고찰\n",
    "- 목표: 다른 직업군을 대표하는 단어가 등장할수록 0에 가깝고 그 외의 경우에는 1에 가깝게\n",
    "1. log값 취하고 1 더한 후 역수\n",
    "2. 상-하 뒤집은 후 x축으로 +N_sigmoid만큼 평행이동한 sigmoid 적용(0~1사이 값, 변곡점은 N_sigmoid에 위치)\n"
   ]
  },
  {
   "cell_type": "markdown",
   "metadata": {},
   "source": [
    "### 1. negative voca에 log값 취하기\n",
    "- 별로일듯"
   ]
  },
  {
   "cell_type": "code",
   "execution_count": 138,
   "metadata": {},
   "outputs": [],
   "source": [
    "for i in range(N_category):\n",
    "    globals()['neg{}_log'.format(i)] = {}\n",
    "\n",
    "for i in range(N_category):\n",
    "    for (w, n) in globals()['neg{}'.format(i)].items():\n",
    "        globals()['neg{}_log'.format(i)][w] = np.log(n)"
   ]
  },
  {
   "cell_type": "code",
   "execution_count": 93,
   "metadata": {},
   "outputs": [],
   "source": [
    "# neg0_log, neg1_log, neg2_log"
   ]
  },
  {
   "cell_type": "markdown",
   "metadata": {},
   "source": [
    "### 2. negative voca에 sigmoid 적용하기\n",
    "- N_sigmoid는 neg 단어의 빈도수 보고 조정해야 함(상위 200개의 중위값?)\n",
    "- 상위 N개의 평균 값 정도가 적절할듯"
   ]
  },
  {
   "cell_type": "code",
   "execution_count": 96,
   "metadata": {},
   "outputs": [],
   "source": [
    "def mysigmoid(x, N_sigmoid):\n",
    "    return 1 / (1 + np.exp(x - N_sigmoid))\n",
    "\n",
    "for i in range(N_category):\n",
    "    globals()['neg{}_sig'.format(i)] = {}\n",
    "\n",
    "for i in range(N_category):\n",
    "    for (w, n) in globals()['neg{}'.format(i)].items():\n",
    "        globals()['neg{}_sig'.format(i)][w] = mysigmoid(n, N_sigmoid = 8) # neg 단어의 빈도수 보고 조정"
   ]
  },
  {
   "cell_type": "code",
   "execution_count": 126,
   "metadata": {},
   "outputs": [],
   "source": [
    "# neg0_sig, neg1_sig, neg2_sig"
   ]
  },
  {
   "cell_type": "markdown",
   "metadata": {},
   "source": [
    "# ----------------------------------------------\n",
    "# scoring 문제점\n",
    "- 단순 게시물(해시태그) 수 적은 유저의 스코어가 유난히 높거나 낮게 측정됨. 처음에 freq 합이 너무 적은 유저는 제거해야할 듯\n",
    "# ----------------------------------------------"
   ]
  },
  {
   "cell_type": "markdown",
   "metadata": {},
   "source": [
    "# 최종 scoring\n",
    "- 주부, 백수는 계산할 필요 없음\n",
    "- negative 변수를 곱한 tf-idf 중요도 사용\n",
    "- 각 유저의 사용 해시태그 빈도 확률 이용해서 계산\n",
    "\n",
    "### tf-idf에 곱해줄 보정 변수 neg 계산법\n",
    "1. log: 1/(1+neg_log)\n",
    "2. sigmoid: neg_sig 그대로 사용"
   ]
  },
  {
   "cell_type": "code",
   "execution_count": 119,
   "metadata": {
    "tags": []
   },
   "outputs": [],
   "source": [
    "for i in range(N_category):\n",
    "    globals()['df{}'.format(i)]['score_log'] = 0\n",
    "    globals()['df{}'.format(i)]['score_sigmoid'] = 0"
   ]
  },
  {
   "cell_type": "code",
   "execution_count": 120,
   "metadata": {},
   "outputs": [],
   "source": [
    "def scoring(freq_row, num_df, method):\n",
    "    score = 0\n",
    "    N_tags = sum(freq_row.values())\n",
    "\n",
    "    for (w, n) in freq_row.items():\n",
    "        tf = n\n",
    "        idf = N_category / (1 + globals()['freq_other{}'.format(num_df)][w])\n",
    "        try:\n",
    "            if method == 'log':\n",
    "                neg = 1 / (1 + globals()['neg{}_log'.format(num_df)][w])\n",
    "            elif method == 'sigmoid':\n",
    "                neg = globals()['neg{}_sig'.format(num_df)][w]\n",
    "        except:\n",
    "            neg = 1\n",
    "        score += tf * idf * neg / N_tags\n",
    "\n",
    "    return score"
   ]
  },
  {
   "cell_type": "code",
   "execution_count": 128,
   "metadata": {},
   "outputs": [],
   "source": [
    "# 실제로 돌릴때는 N_category-2 (주부, 백수)\n",
    "\n",
    "for i in range(N_category):\n",
    "    globals()['df{}'.format(i)]['score_log'] = globals()['df{}'.format(i)]['freq'].apply(lambda x: scoring(x, i, method = 'log'))\n",
    "    globals()['df{}'.format(i)]['score_sigmoid'] = globals()['df{}'.format(i)]['freq'].apply(lambda x: scoring(x, i, method = 'sigmoid'))"
   ]
  },
  {
   "cell_type": "code",
   "execution_count": 134,
   "metadata": {
    "tags": []
   },
   "outputs": [],
   "source": [
    "# display(df0.head())\n",
    "# display(df1.head())\n",
    "# display(df2.head())"
   ]
  },
  {
   "cell_type": "code",
   "execution_count": 135,
   "metadata": {
    "tags": []
   },
   "outputs": [
    {
     "output_type": "stream",
     "name": "stdout",
     "text": "군인\n"
    },
    {
     "output_type": "display_data",
     "data": {
      "text/plain": "                                                 freq  \\\n0                                  {'23': 1, '24': 1}   \n10                              {'정복': 1, '군스타그램': 1}   \n19                               {'3년째': 1, '연애중': 1}   \n13  {'지훈세영': 63, '역조공': 1, '곰신스타그램': 2, '택배': 1, '...   \n16  {'리그램': 9, '생각의차이가미래를바꾼다': 5, '과거사진': 1, '챔프지점...   \n4   {'여기조기요기': 1, '굿모닝': 1, '나온다나온다나이나온다': 1, '유노앤...   \n15  {'여자숏컷': 1, '블론드': 1, '디자이너강철': 3, '미용실': 2, '...   \n18  {'창선동먹자골목': 1, '유럽여행': 1, '속옷쇼핑몰': 1, '초가을': 1...   \n27  {'우문현답': 1, '아들바보': 6, '아빠': 1, '도은이': 2, '재무설...   \n8   {'단발펌': 1, '중단발머리': 1, '여자중단발': 1, '칼단발': 1, '...   \n\n                                                 tags      user_id  \\\n0                                            [23, 24]  24895167311   \n10                                        [정복, 군스타그램]   8523336865   \n19                                         [3년째, 연애중]   1556311885   \n13                  [지훈세영, 역조공, 곰신스타그램, 택배, 20191224]  23345847608   \n16  [리그램, 생각의차이가미래를바꾼다, 과거사진, 챔프지점장, 신라호텔, 더파크뷰, 우...   2015100987   \n4   [여기조기요기, 굿모닝, 나온다나온다나이나온다, 유노앤드요, 컴백, 웃음욕심, 노력...   5641751675   \n15  [여자숏컷, 블론드, 디자이너강철, 미용실, 신촌미용실, 서대문구미용실, 마포구미용...  40276026268   \n18  [창선동먹자골목, 유럽여행, 속옷쇼핑몰, 초가을, 내장산, 일본야동, 만남섹스, 야...  40704112925   \n27  [우문현답, 아들바보, 아빠, 도은이, 재무설계, 취업, 면접, 신입, 부사관, 간...   4317431003   \n8   [단발펌, 중단발머리, 여자중단발, 칼단발, 여자머, 빌드펌, 보브컷, 원랭스, 여...  28029055139   \n\n         user_name  score_log  score_sigmoid  \n0    hye_lim._.eee   1.500000       1.500000  \n10   nan__jinyoung   1.500000       1.500000  \n19       seol_h16_   1.500000       1.500000  \n13         181225_   1.492647       1.492647  \n16         az_one1   1.478261       1.478261  \n4         _andyon_   1.433230       1.433230  \n15  riahn_shinchon   1.431818       1.431818  \n18       cvbdbcvnd   1.429787       1.429787  \n27         yongcop   1.425824       1.425824  \n8         dc_jieun   1.379310       1.379310  ",
      "text/html": "<div>\n<style scoped>\n    .dataframe tbody tr th:only-of-type {\n        vertical-align: middle;\n    }\n\n    .dataframe tbody tr th {\n        vertical-align: top;\n    }\n\n    .dataframe thead th {\n        text-align: right;\n    }\n</style>\n<table border=\"1\" class=\"dataframe\">\n  <thead>\n    <tr style=\"text-align: right;\">\n      <th></th>\n      <th>freq</th>\n      <th>tags</th>\n      <th>user_id</th>\n      <th>user_name</th>\n      <th>score_log</th>\n      <th>score_sigmoid</th>\n    </tr>\n  </thead>\n  <tbody>\n    <tr>\n      <th>0</th>\n      <td>{'23': 1, '24': 1}</td>\n      <td>[23, 24]</td>\n      <td>24895167311</td>\n      <td>hye_lim._.eee</td>\n      <td>1.500000</td>\n      <td>1.500000</td>\n    </tr>\n    <tr>\n      <th>10</th>\n      <td>{'정복': 1, '군스타그램': 1}</td>\n      <td>[정복, 군스타그램]</td>\n      <td>8523336865</td>\n      <td>nan__jinyoung</td>\n      <td>1.500000</td>\n      <td>1.500000</td>\n    </tr>\n    <tr>\n      <th>19</th>\n      <td>{'3년째': 1, '연애중': 1}</td>\n      <td>[3년째, 연애중]</td>\n      <td>1556311885</td>\n      <td>seol_h16_</td>\n      <td>1.500000</td>\n      <td>1.500000</td>\n    </tr>\n    <tr>\n      <th>13</th>\n      <td>{'지훈세영': 63, '역조공': 1, '곰신스타그램': 2, '택배': 1, '...</td>\n      <td>[지훈세영, 역조공, 곰신스타그램, 택배, 20191224]</td>\n      <td>23345847608</td>\n      <td>181225_</td>\n      <td>1.492647</td>\n      <td>1.492647</td>\n    </tr>\n    <tr>\n      <th>16</th>\n      <td>{'리그램': 9, '생각의차이가미래를바꾼다': 5, '과거사진': 1, '챔프지점...</td>\n      <td>[리그램, 생각의차이가미래를바꾼다, 과거사진, 챔프지점장, 신라호텔, 더파크뷰, 우...</td>\n      <td>2015100987</td>\n      <td>az_one1</td>\n      <td>1.478261</td>\n      <td>1.478261</td>\n    </tr>\n    <tr>\n      <th>4</th>\n      <td>{'여기조기요기': 1, '굿모닝': 1, '나온다나온다나이나온다': 1, '유노앤...</td>\n      <td>[여기조기요기, 굿모닝, 나온다나온다나이나온다, 유노앤드요, 컴백, 웃음욕심, 노력...</td>\n      <td>5641751675</td>\n      <td>_andyon_</td>\n      <td>1.433230</td>\n      <td>1.433230</td>\n    </tr>\n    <tr>\n      <th>15</th>\n      <td>{'여자숏컷': 1, '블론드': 1, '디자이너강철': 3, '미용실': 2, '...</td>\n      <td>[여자숏컷, 블론드, 디자이너강철, 미용실, 신촌미용실, 서대문구미용실, 마포구미용...</td>\n      <td>40276026268</td>\n      <td>riahn_shinchon</td>\n      <td>1.431818</td>\n      <td>1.431818</td>\n    </tr>\n    <tr>\n      <th>18</th>\n      <td>{'창선동먹자골목': 1, '유럽여행': 1, '속옷쇼핑몰': 1, '초가을': 1...</td>\n      <td>[창선동먹자골목, 유럽여행, 속옷쇼핑몰, 초가을, 내장산, 일본야동, 만남섹스, 야...</td>\n      <td>40704112925</td>\n      <td>cvbdbcvnd</td>\n      <td>1.429787</td>\n      <td>1.429787</td>\n    </tr>\n    <tr>\n      <th>27</th>\n      <td>{'우문현답': 1, '아들바보': 6, '아빠': 1, '도은이': 2, '재무설...</td>\n      <td>[우문현답, 아들바보, 아빠, 도은이, 재무설계, 취업, 면접, 신입, 부사관, 간...</td>\n      <td>4317431003</td>\n      <td>yongcop</td>\n      <td>1.425824</td>\n      <td>1.425824</td>\n    </tr>\n    <tr>\n      <th>8</th>\n      <td>{'단발펌': 1, '중단발머리': 1, '여자중단발': 1, '칼단발': 1, '...</td>\n      <td>[단발펌, 중단발머리, 여자중단발, 칼단발, 여자머, 빌드펌, 보브컷, 원랭스, 여...</td>\n      <td>28029055139</td>\n      <td>dc_jieun</td>\n      <td>1.379310</td>\n      <td>1.379310</td>\n    </tr>\n  </tbody>\n</table>\n</div>"
     },
     "metadata": {}
    },
    {
     "output_type": "stream",
     "name": "stdout",
     "text": "교사\n"
    },
    {
     "output_type": "display_data",
     "data": {
      "text/plain": "                                                 freq  \\\n0                                           {'범계': 1}   \n30                                      {'선생님딸내미': 7}   \n11                                        {'기상인증': 5}   \n31  {'내가아이와놀이하는법': 37, '놀이공유': 2, '아기놀이공유': 2, '워킹...   \n4   {'제주대학교': 12, '수시모집요강': 1, '제주대학교2021학년도수시모집요강...   \n9   {'정리컨설턴트': 1, '심플라이프': 1, '미니멀라이프': 1, '신박한정리'...   \n19  {'주인싫어하는내새끼들': 1, '엄마가잘할게': 1, '나는너의든든한담당자': 1...   \n25  {'20200901': 1, '20200831': 1, '20200830': 1, ...   \n23  {'건반': 23, '가스펠': 20, '메인스테이지3': 20, '쌤스타그램': ...   \n13  {'서봄': 45, '서봄어린이집': 59, '공동육아어린이집': 56, '공동육아...   \n\n                                                 tags      user_id  \\\n0                                                [범계]  30033400542   \n30                                           [선생님딸내미]  40034827235   \n11                                             [기상인증]  39760324373   \n31  [내가아이와놀이하는법, 놀이공유, 아기놀이공유, 워킹온더클라우드, 심포니오케스트라,...   3075729922   \n4   [제주대학교, 수시모집요강, 제주대학교2021학년도수시모집요강, 전형일정, 모집단위...   5863131290   \n9   [정리컨설턴트, 심플라이프, 미니멀라이프, 신박한정리, 정리방법, 수납방법, 수납꿀...   8540797781   \n19  [주인싫어하는내새끼들, 엄마가잘할게, 나는너의든든한담당자, 상담후기, 당신의든든한담...   5689003545   \n25  [20200901, 20200831, 20200830, 20200827, 20200...  27060861703   \n23  [건반, 가스펠, 메인스테이지3, 쌤스타그램, 교사스타그램, 헬로카봇, 카봇, 놀이...    323733353   \n13  [서봄, 서봄어린이집, 공동육아어린이집, 공동육아현장, 공동육아, 협동조합어린이집,...   7145448194   \n\n                  user_name  score_log  score_sigmoid  \n0                   d_jshin   1.500000       1.500000  \n30       teachers__daughter   1.500000       1.500000  \n11                reussirxe   1.500000       1.500000  \n31               _lovelydo_   1.500000       1.500000  \n4               jejunu_ibsi   1.492857       1.492857  \n9                vs_tschool   1.473765       1.473765  \n19               s____h._.h   1.473459       1.473459  \n25                 xxpeukxx   1.464286       1.464286  \n23             yoobyungyuhn   1.457767       1.457767  \n13  seobom_we_grow_together   1.452292       1.452292  ",
      "text/html": "<div>\n<style scoped>\n    .dataframe tbody tr th:only-of-type {\n        vertical-align: middle;\n    }\n\n    .dataframe tbody tr th {\n        vertical-align: top;\n    }\n\n    .dataframe thead th {\n        text-align: right;\n    }\n</style>\n<table border=\"1\" class=\"dataframe\">\n  <thead>\n    <tr style=\"text-align: right;\">\n      <th></th>\n      <th>freq</th>\n      <th>tags</th>\n      <th>user_id</th>\n      <th>user_name</th>\n      <th>score_log</th>\n      <th>score_sigmoid</th>\n    </tr>\n  </thead>\n  <tbody>\n    <tr>\n      <th>0</th>\n      <td>{'범계': 1}</td>\n      <td>[범계]</td>\n      <td>30033400542</td>\n      <td>d_jshin</td>\n      <td>1.500000</td>\n      <td>1.500000</td>\n    </tr>\n    <tr>\n      <th>30</th>\n      <td>{'선생님딸내미': 7}</td>\n      <td>[선생님딸내미]</td>\n      <td>40034827235</td>\n      <td>teachers__daughter</td>\n      <td>1.500000</td>\n      <td>1.500000</td>\n    </tr>\n    <tr>\n      <th>11</th>\n      <td>{'기상인증': 5}</td>\n      <td>[기상인증]</td>\n      <td>39760324373</td>\n      <td>reussirxe</td>\n      <td>1.500000</td>\n      <td>1.500000</td>\n    </tr>\n    <tr>\n      <th>31</th>\n      <td>{'내가아이와놀이하는법': 37, '놀이공유': 2, '아기놀이공유': 2, '워킹...</td>\n      <td>[내가아이와놀이하는법, 놀이공유, 아기놀이공유, 워킹온더클라우드, 심포니오케스트라,...</td>\n      <td>3075729922</td>\n      <td>_lovelydo_</td>\n      <td>1.500000</td>\n      <td>1.500000</td>\n    </tr>\n    <tr>\n      <th>4</th>\n      <td>{'제주대학교': 12, '수시모집요강': 1, '제주대학교2021학년도수시모집요강...</td>\n      <td>[제주대학교, 수시모집요강, 제주대학교2021학년도수시모집요강, 전형일정, 모집단위...</td>\n      <td>5863131290</td>\n      <td>jejunu_ibsi</td>\n      <td>1.492857</td>\n      <td>1.492857</td>\n    </tr>\n    <tr>\n      <th>9</th>\n      <td>{'정리컨설턴트': 1, '심플라이프': 1, '미니멀라이프': 1, '신박한정리'...</td>\n      <td>[정리컨설턴트, 심플라이프, 미니멀라이프, 신박한정리, 정리방법, 수납방법, 수납꿀...</td>\n      <td>8540797781</td>\n      <td>vs_tschool</td>\n      <td>1.473765</td>\n      <td>1.473765</td>\n    </tr>\n    <tr>\n      <th>19</th>\n      <td>{'주인싫어하는내새끼들': 1, '엄마가잘할게': 1, '나는너의든든한담당자': 1...</td>\n      <td>[주인싫어하는내새끼들, 엄마가잘할게, 나는너의든든한담당자, 상담후기, 당신의든든한담...</td>\n      <td>5689003545</td>\n      <td>s____h._.h</td>\n      <td>1.473459</td>\n      <td>1.473459</td>\n    </tr>\n    <tr>\n      <th>25</th>\n      <td>{'20200901': 1, '20200831': 1, '20200830': 1, ...</td>\n      <td>[20200901, 20200831, 20200830, 20200827, 20200...</td>\n      <td>27060861703</td>\n      <td>xxpeukxx</td>\n      <td>1.464286</td>\n      <td>1.464286</td>\n    </tr>\n    <tr>\n      <th>23</th>\n      <td>{'건반': 23, '가스펠': 20, '메인스테이지3': 20, '쌤스타그램': ...</td>\n      <td>[건반, 가스펠, 메인스테이지3, 쌤스타그램, 교사스타그램, 헬로카봇, 카봇, 놀이...</td>\n      <td>323733353</td>\n      <td>yoobyungyuhn</td>\n      <td>1.457767</td>\n      <td>1.457767</td>\n    </tr>\n    <tr>\n      <th>13</th>\n      <td>{'서봄': 45, '서봄어린이집': 59, '공동육아어린이집': 56, '공동육아...</td>\n      <td>[서봄, 서봄어린이집, 공동육아어린이집, 공동육아현장, 공동육아, 협동조합어린이집,...</td>\n      <td>7145448194</td>\n      <td>seobom_we_grow_together</td>\n      <td>1.452292</td>\n      <td>1.452292</td>\n    </tr>\n  </tbody>\n</table>\n</div>"
     },
     "metadata": {}
    },
    {
     "output_type": "stream",
     "name": "stdout",
     "text": "중2\n"
    },
    {
     "output_type": "display_data",
     "data": {
      "text/plain": "                                                 freq  \\\n6                   {'청남대': 1, '영남대학교': 1, '시골소녀': 1}   \n18                                        {'삭제피드': 1}   \n9                        {'중간피드': 1, '20203월모의고사': 1}   \n8   {'중간피드': 2, '제품제공': 2, '제브라': 1, '열공인증이벤트': 1,...   \n21  {'외대부고캠프': 21, '용인외고캠프': 5, '외대부고': 21, '용인외고'...   \n27  {'코로나19': 6, '면역력증진': 1, '체온1도': 1, '독서기록': 1,...   \n17  {'백와달팽이': 1, '달팽이체력훈련': 1, '열심히': 2, '잘살아': 1,...   \n31  {'06': 2, '공스타그램': 5, '열공인증': 1, '사진태그': 2, '토...   \n25  {'중딩': 11, '중학생': 5, '중학교2학년': 2, '중학생2학년': 1,...   \n5   {'06년생': 3, '15살': 3, '전신샷': 1, '색칠스타그램': 1, '...   \n\n                                                 tags      user_id  \\\n6                                  [청남대, 영남대학교, 시골소녀]   3765300236   \n18                                             [삭제피드]  38992930746   \n9                                  [중간피드, 20203월모의고사]  30961379040   \n8              [중간피드, 제품제공, 제브라, 열공인증이벤트, 제브라방구석열공인증]  31709879503   \n21  [외대부고캠프, 용인외고캠프, 외대부고, 용인외고, 외대부고기숙캠프, 외대부고영어캠...   5375673573   \n27  [코로나19, 면역력증진, 체온1도, 독서기록, 돈의속성, 고2, 늦은없뎃, 이쁜,...   3853053986   \n17  [백와달팽이, 달팽이체력훈련, 열심히, 잘살아, 보자, 미국, 초등학교, 초2학년,...   2215969218   \n31  [06, 공스타그램, 열공인증, 사진태그, 토이스토리, 포키, 좋아요테러, 댓글환영...  39499839360   \n25  [중딩, 중학생, 중학교2학년, 중학생2학년, 중학생공부, 중학교공부, 중2공부, ...  40159949686   \n5   [06년생, 15살, 전신샷, 색칠스타그램, 소녀, 취미생활, 취미스타그램, 소확행...  40532744267   \n\n             user_name  score_log  score_sigmoid  \n6           yunji_1701   1.500000       1.500000  \n18        gmldnjss._.1   1.500000       1.500000  \n9           _lovewesxt   1.500000       1.500000  \n8           1221_wish_   1.500000       1.500000  \n21            hafscamp   1.422244       1.422244  \n27  01_theclock_msoeun   1.419323       1.419323  \n17    happymom_english   1.388544       1.388544  \n31        happysh_8686   1.375000       1.375000  \n25      hyisu__x__x_06   1.357977       1.357977  \n5             isy._.06   1.346154       1.346154  ",
      "text/html": "<div>\n<style scoped>\n    .dataframe tbody tr th:only-of-type {\n        vertical-align: middle;\n    }\n\n    .dataframe tbody tr th {\n        vertical-align: top;\n    }\n\n    .dataframe thead th {\n        text-align: right;\n    }\n</style>\n<table border=\"1\" class=\"dataframe\">\n  <thead>\n    <tr style=\"text-align: right;\">\n      <th></th>\n      <th>freq</th>\n      <th>tags</th>\n      <th>user_id</th>\n      <th>user_name</th>\n      <th>score_log</th>\n      <th>score_sigmoid</th>\n    </tr>\n  </thead>\n  <tbody>\n    <tr>\n      <th>6</th>\n      <td>{'청남대': 1, '영남대학교': 1, '시골소녀': 1}</td>\n      <td>[청남대, 영남대학교, 시골소녀]</td>\n      <td>3765300236</td>\n      <td>yunji_1701</td>\n      <td>1.500000</td>\n      <td>1.500000</td>\n    </tr>\n    <tr>\n      <th>18</th>\n      <td>{'삭제피드': 1}</td>\n      <td>[삭제피드]</td>\n      <td>38992930746</td>\n      <td>gmldnjss._.1</td>\n      <td>1.500000</td>\n      <td>1.500000</td>\n    </tr>\n    <tr>\n      <th>9</th>\n      <td>{'중간피드': 1, '20203월모의고사': 1}</td>\n      <td>[중간피드, 20203월모의고사]</td>\n      <td>30961379040</td>\n      <td>_lovewesxt</td>\n      <td>1.500000</td>\n      <td>1.500000</td>\n    </tr>\n    <tr>\n      <th>8</th>\n      <td>{'중간피드': 2, '제품제공': 2, '제브라': 1, '열공인증이벤트': 1,...</td>\n      <td>[중간피드, 제품제공, 제브라, 열공인증이벤트, 제브라방구석열공인증]</td>\n      <td>31709879503</td>\n      <td>1221_wish_</td>\n      <td>1.500000</td>\n      <td>1.500000</td>\n    </tr>\n    <tr>\n      <th>21</th>\n      <td>{'외대부고캠프': 21, '용인외고캠프': 5, '외대부고': 21, '용인외고'...</td>\n      <td>[외대부고캠프, 용인외고캠프, 외대부고, 용인외고, 외대부고기숙캠프, 외대부고영어캠...</td>\n      <td>5375673573</td>\n      <td>hafscamp</td>\n      <td>1.422244</td>\n      <td>1.422244</td>\n    </tr>\n    <tr>\n      <th>27</th>\n      <td>{'코로나19': 6, '면역력증진': 1, '체온1도': 1, '독서기록': 1,...</td>\n      <td>[코로나19, 면역력증진, 체온1도, 독서기록, 돈의속성, 고2, 늦은없뎃, 이쁜,...</td>\n      <td>3853053986</td>\n      <td>01_theclock_msoeun</td>\n      <td>1.419323</td>\n      <td>1.419323</td>\n    </tr>\n    <tr>\n      <th>17</th>\n      <td>{'백와달팽이': 1, '달팽이체력훈련': 1, '열심히': 2, '잘살아': 1,...</td>\n      <td>[백와달팽이, 달팽이체력훈련, 열심히, 잘살아, 보자, 미국, 초등학교, 초2학년,...</td>\n      <td>2215969218</td>\n      <td>happymom_english</td>\n      <td>1.388544</td>\n      <td>1.388544</td>\n    </tr>\n    <tr>\n      <th>31</th>\n      <td>{'06': 2, '공스타그램': 5, '열공인증': 1, '사진태그': 2, '토...</td>\n      <td>[06, 공스타그램, 열공인증, 사진태그, 토이스토리, 포키, 좋아요테러, 댓글환영...</td>\n      <td>39499839360</td>\n      <td>happysh_8686</td>\n      <td>1.375000</td>\n      <td>1.375000</td>\n    </tr>\n    <tr>\n      <th>25</th>\n      <td>{'중딩': 11, '중학생': 5, '중학교2학년': 2, '중학생2학년': 1,...</td>\n      <td>[중딩, 중학생, 중학교2학년, 중학생2학년, 중학생공부, 중학교공부, 중2공부, ...</td>\n      <td>40159949686</td>\n      <td>hyisu__x__x_06</td>\n      <td>1.357977</td>\n      <td>1.357977</td>\n    </tr>\n    <tr>\n      <th>5</th>\n      <td>{'06년생': 3, '15살': 3, '전신샷': 1, '색칠스타그램': 1, '...</td>\n      <td>[06년생, 15살, 전신샷, 색칠스타그램, 소녀, 취미생활, 취미스타그램, 소확행...</td>\n      <td>40532744267</td>\n      <td>isy._.06</td>\n      <td>1.346154</td>\n      <td>1.346154</td>\n    </tr>\n  </tbody>\n</table>\n</div>"
     },
     "metadata": {}
    }
   ],
   "source": [
    "# 최종 필터링 결과\n",
    "\n",
    "print('군인')\n",
    "display(df0.sort_values(by='score_sigmoid', ascending=False).head(10))\n",
    "print('교사')\n",
    "display(df1.sort_values(by='score_sigmoid', ascending=False).head(10))\n",
    "print('중2')\n",
    "display(df2.sort_values(by='score_sigmoid', ascending=False).head(10))"
   ]
  }
 ]
}